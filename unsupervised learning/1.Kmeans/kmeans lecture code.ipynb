{
 "cells": [
  {
   "cell_type": "code",
   "execution_count": null,
   "metadata": {},
   "outputs": [],
   "source": [
    "!pip install yellowbrick"
   ]
  },
  {
   "cell_type": "markdown",
   "metadata": {
    "id": "zta0SFErRCxh"
   },
   "source": [
    "데이터 로드"
   ]
  },
  {
   "cell_type": "code",
   "execution_count": null,
   "metadata": {
    "id": "807-sJuyQZYd"
   },
   "outputs": [],
   "source": [
    "import pandas as pd\n",
    "df = pd.read_csv(#####빈칸을 채우세요######)\n",
    "df"
   ]
  },
  {
   "cell_type": "markdown",
   "metadata": {
    "id": "-RfwUMYARFoX"
   },
   "source": [
    "데이터 전처리"
   ]
  },
  {
   "cell_type": "code",
   "execution_count": null,
   "metadata": {
    "id": "6-wcrye7Xb_o"
   },
   "outputs": [],
   "source": [
    "from sklearn.preprocessing import MinMaxScaler\n",
    "\n",
    "# 두 가지 feature를 대상\n",
    "data = df[[#####빈칸을 채우세요######]]\n",
    "\n",
    "# 정규화 진행\n",
    "scaler = MinMaxScaler()\n",
    "data_scale = scaler.fit_transform(data)"
   ]
  },
  {
   "cell_type": "code",
   "execution_count": null,
   "metadata": {
    "id": "w-wZDb15Xier"
   },
   "outputs": [],
   "source": [
    "print(data_scale[:10])"
   ]
  },
  {
   "cell_type": "markdown",
   "metadata": {
    "id": "WK2ZmuAuRHNW"
   },
   "source": [
    "모델 불러오기"
   ]
  },
  {
   "cell_type": "code",
   "execution_count": null,
   "metadata": {
    "id": "aLrWwJzEXhgk"
   },
   "outputs": [],
   "source": [
    "from sklearn.cluster import KMeans\n",
    "\n",
    "k = 4\n",
    "\n",
    "# 그룹 수, random_state 설정\n",
    "model = KMeans(n_clusters = k, random_state = 10)\n",
    "\n",
    "# 정규화된 데이터에 학습\n",
    "model.fit(data_scale)\n",
    "\n",
    "# 클러스터링 결과 각 데이터가 몇 번째 그룹에 속하는지 저장\n",
    "df['cluster'] = model.fit_predict(data_scale)"
   ]
  },
  {
   "cell_type": "markdown",
   "metadata": {
    "id": "972XrgBmRJyR"
   },
   "source": [
    "결과 확인"
   ]
  },
  {
   "cell_type": "code",
   "execution_count": null,
   "metadata": {
    "id": "uXHqojN9X3aD"
   },
   "outputs": [],
   "source": [
    "import matplotlib.pyplot as plt\n",
    "\n",
    "plt.figure(figsize = (8, 8))\n",
    "\n",
    "for i in range(k):\n",
    "    plt.scatter(df.loc[df['cluster'] == i, 'Annual Income (k$)'], df.loc[df['cluster'] == i, 'Spending Score (1-100)'],\n",
    "                label = 'cluster ' + str(i))\n",
    "\n",
    "plt.legend()\n",
    "plt.title('K = %d results'%k , size = 15)\n",
    "plt.xlabel('Annual Income', size = 12)\n",
    "plt.ylabel('Spending Score', size = 12)\n",
    "plt.show()"
   ]
  },
  {
   "cell_type": "markdown",
   "metadata": {
    "id": "I0BAqh3pRM41"
   },
   "source": [
    "최적 K값 탐색"
   ]
  },
  {
   "cell_type": "code",
   "execution_count": null,
   "metadata": {
    "id": "KdF5RzZyYO4k"
   },
   "outputs": [],
   "source": [
    "from yellowbrick.cluster import KElbowVisualizer\n",
    "\n",
    "model = KMeans()\n",
    "visualizer = KElbowVisualizer(model, k=(1,10))\n",
    "visualizer.fit(data_scale)\n",
    "# 파란색-각 데이터들의 군중 중심과의 평균 거리\n",
    "# 초록색-학습 시간"
   ]
  }
 ],
 "metadata": {
  "colab": {
   "authorship_tag": "ABX9TyN3RmdSszxwBnrkYXI7sTS/",
   "mount_file_id": "1PxuDsKHmij3wWwHv1bF0AH1ySXY163p9",
   "provenance": []
  },
  "kernelspec": {
   "display_name": "Python 3 (ipykernel)",
   "language": "python",
   "name": "python3"
  },
  "language_info": {
   "codemirror_mode": {
    "name": "ipython",
    "version": 3
   },
   "file_extension": ".py",
   "mimetype": "text/x-python",
   "name": "python",
   "nbconvert_exporter": "python",
   "pygments_lexer": "ipython3",
   "version": "3.9.12"
  }
 },
 "nbformat": 4,
 "nbformat_minor": 4
}
