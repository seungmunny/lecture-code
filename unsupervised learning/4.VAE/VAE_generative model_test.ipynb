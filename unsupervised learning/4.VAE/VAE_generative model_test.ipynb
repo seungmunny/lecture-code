{
 "cells": [
  {
   "cell_type": "markdown",
   "metadata": {
    "id": "HB_V2ul2nzcI"
   },
   "source": [
    "Import library"
   ]
  },
  {
   "cell_type": "code",
   "execution_count": 1,
   "metadata": {
    "id": "aWC0ckWQCCJH"
   },
   "outputs": [],
   "source": [
    "import os\n",
    "import numpy as np\n",
    "import random\n",
    "import itertools\n",
    "\n",
    "import torch\n",
    "import torch.nn as nn\n",
    "import torch.nn.functional as F\n",
    "from torch.utils.data import DataLoader\n",
    "\n",
    "from torchvision import datasets,transforms\n",
    "from torchvision.utils import save_image\n"
   ]
  },
  {
   "cell_type": "markdown",
   "metadata": {
    "id": "0AZUaWx-pdBk"
   },
   "source": [
    "초기 파라미터 설정"
   ]
  },
  {
   "cell_type": "code",
   "execution_count": 3,
   "metadata": {
    "id": "qGCDw5MaDECc"
   },
   "outputs": [],
   "source": [
    "image_path = './images'\n",
    "channels = 1                    # MNIST has only 1-흑백사진\n",
    "\n",
    "n_epochs = 10                   #학습 횟수\n",
    "batch_size = 128                #한번에 학습할 이미지 갯수\n",
    "lr = 1e-3                       #Learning rate\n",
    "b1 = 0.5\n",
    "b2 = 0.999\n",
    "\n",
    "img_size = 28\n",
    "hidden_dim = 400\n",
    "latent_dim = 10"
   ]
  },
  {
   "cell_type": "code",
   "execution_count": 4,
   "metadata": {
    "id": "P-vMKKJXDJAX"
   },
   "outputs": [],
   "source": [
    "os.makedirs(image_path, exist_ok=True)"
   ]
  },
  {
   "cell_type": "code",
   "execution_count": 6,
   "metadata": {
    "id": "QZtoosrPzyWn"
   },
   "outputs": [
    {
     "name": "stdout",
     "output_type": "stream",
     "text": [
      "cpu\n"
     ]
    }
   ],
   "source": [
    "device = torch.device('cuda' if torch.cuda.is_available() else 'cpu')\n",
    "print(device)"
   ]
  },
  {
   "cell_type": "markdown",
   "metadata": {
    "id": "Mt_KMMA-phkZ"
   },
   "source": [
    "mnist train, test dataset 불러오기"
   ]
  },
  {
   "cell_type": "code",
   "execution_count": 7,
   "metadata": {
    "id": "ym8CopDBNrK-"
   },
   "outputs": [],
   "source": [
    "transform = transforms.Compose([\n",
    "            transforms.ToTensor()\n",
    "            ])\n",
    "\n",
    "train = datasets.MNIST(root='./data/',train=True,transform=transform,download=True)\n",
    "test = datasets.MNIST(root='./data/',train=False,transform=transform,download=True)\n",
    "\n",
    "train_dataloader = torch.utils.data.DataLoader(\n",
    "            train,\n",
    "            batch_size=batch_size,\n",
    "            shuffle=True,\n",
    "\n",
    ")\n",
    "\n",
    "test_dataloader = torch.utils.data.DataLoader(\n",
    "            test,\n",
    "            batch_size=batch_size,\n",
    "            shuffle=False,\n",
    ")"
   ]
  },
  {
   "cell_type": "code",
   "execution_count": 8,
   "metadata": {
    "id": "q81N-mUkzARB"
   },
   "outputs": [
    {
     "data": {
      "text/plain": [
       "<matplotlib.image.AxesImage at 0x1fc6a8639d0>"
      ]
     },
     "execution_count": 8,
     "metadata": {},
     "output_type": "execute_result"
    },
    {
     "data": {
      "image/png": "[encoded data removed]",
      "text/plain": [
       "<Figure size 640x480 with 1 Axes>"
      ]
     },
     "metadata": {},
     "output_type": "display_data"
    }
   ],
   "source": [
    "import matplotlib.pyplot as plt\n",
    "plt.imshow(train[2][0][0],cmap='gray')"
   ]
  },
  {
   "cell_type": "markdown",
   "metadata": {
    "id": "cNyh5KiMprKz"
   },
   "source": [
    "Encoder 정의"
   ]
  },
  {
   "cell_type": "code",
   "execution_count": 9,
   "metadata": {
    "id": "AKf0cJoQoInH"
   },
   "outputs": [],
   "source": [
    "class Encoder(nn.Module):\n",
    "    def __init__(self, x_dim=img_size**2, h_dim=hidden_dim, z_dim=latent_dim):\n",
    "        super(Encoder, self).__init__()\n",
    "\n",
    "        # 1st hidden layer\n",
    "        self.fc1 = nn.Sequential(\n",
    "            nn.Linear(x_dim, h_dim),\n",
    "            nn.ReLU(),\n",
    "            nn.Dropout(p=0.2)\n",
    "        )\n",
    "\n",
    "        # 2nd hidden layer\n",
    "        self.fc2 = nn.Sequential(\n",
    "            nn.Linear(h_dim, h_dim),\n",
    "            nn.ReLU(),\n",
    "            nn.Dropout(p=0.2)\n",
    "        )\n",
    "\n",
    "        # output layer\n",
    "        self.mu = nn.Linear(h_dim, z_dim)\n",
    "        self.logvar = nn.Linear(h_dim, z_dim)\n",
    "\n",
    "    def forward(self, x):\n",
    "        x = self.fc2(self.fc1(x))\n",
    "\n",
    "        mu = F.relu(self.mu(x))\n",
    "        logvar = F.relu(self.logvar(x))\n",
    "\n",
    "        z = reparameterization(mu, logvar)\n",
    "        return z, mu, logvar"
   ]
  },
  {
   "cell_type": "markdown",
   "metadata": {
    "id": "PZ0ps0pBp7pt"
   },
   "source": [
    "Decoder 정의"
   ]
  },
  {
   "cell_type": "code",
   "execution_count": 10,
   "metadata": {
    "id": "EX-oVWILxmCW"
   },
   "outputs": [],
   "source": [
    "class Decoder(nn.Module):\n",
    "    def __init__(self, x_dim=img_size**2, h_dim=hidden_dim, z_dim=latent_dim):\n",
    "        super(Decoder, self).__init__()\n",
    "\n",
    "        # 1st hidden layer\n",
    "        self.fc1 = nn.Sequential(\n",
    "            nn.Linear(z_dim, h_dim),\n",
    "            nn.ReLU(),\n",
    "            nn.Dropout(p=0.2)\n",
    "        )\n",
    "\n",
    "        # 2nd hidden layer\n",
    "        self.fc2 = nn.Sequential(\n",
    "            nn.Linear(h_dim, h_dim),\n",
    "            nn.ReLU(),\n",
    "            nn.Dropout(p=0.2)\n",
    "        )\n",
    "\n",
    "        # output layer\n",
    "        self.fc3 = nn.Linear(h_dim, x_dim)\n",
    "\n",
    "    def forward(self, z):\n",
    "        z = self.fc2(self.fc1(z))\n",
    "        x_reconst = F.sigmoid(self.fc3(z))\n",
    "        return x_reconst"
   ]
  },
  {
   "cell_type": "markdown",
   "metadata": {
    "id": "V1dBG_GDXiO0"
   },
   "source": [
    "reparameterization 함수 정의"
   ]
  },
  {
   "cell_type": "code",
   "execution_count": 11,
   "metadata": {
    "id": "dRiLrIhHXflD"
   },
   "outputs": [],
   "source": [
    "def reparameterization(mu, logvar):\n",
    "    std = torch.exp(logvar/2)\n",
    "    eps = torch.randn_like(std)\n",
    "    return mu + eps * std"
   ]
  },
  {
   "cell_type": "code",
   "execution_count": 12,
   "metadata": {
    "id": "En_aTzex4xkZ"
   },
   "outputs": [],
   "source": [
    "encoder = Encoder().to(device)\n",
    "decoder = Decoder().to(device)\n",
    "optimizer = torch.optim.Adam(\n",
    "    itertools.chain(encoder.parameters(), decoder.parameters()), lr=lr, betas=(b1, b2)\n",
    ")"
   ]
  },
  {
   "cell_type": "code",
   "execution_count": 13,
   "metadata": {
    "colab": {
     "base_uri": "https://localhost:8080/"
    },
    "executionInfo": {
     "elapsed": 3,
     "status": "ok",
     "timestamp": 1696985336715,
     "user": {
      "displayName": "이승문",
      "userId": "17091695928167721952"
     },
     "user_tz": -540
    },
    "id": "aKGKA1gXTI7o",
    "outputId": "48d2e32a-3942-4a16-dcd3-5f41047d4746"
   },
   "outputs": [
    {
     "name": "stdout",
     "output_type": "stream",
     "text": [
      "Encoder(\n",
      "  (fc1): Sequential(\n",
      "    (0): Linear(in_features=784, out_features=400, bias=True)\n",
      "    (1): ReLU()\n",
      "    (2): Dropout(p=0.2, inplace=False)\n",
      "  )\n",
      "  (fc2): Sequential(\n",
      "    (0): Linear(in_features=400, out_features=400, bias=True)\n",
      "    (1): ReLU()\n",
      "    (2): Dropout(p=0.2, inplace=False)\n",
      "  )\n",
      "  (mu): Linear(in_features=400, out_features=10, bias=True)\n",
      "  (logvar): Linear(in_features=400, out_features=10, bias=True)\n",
      ")\n"
     ]
    }
   ],
   "source": [
    "print(encoder)"
   ]
  },
  {
   "cell_type": "code",
   "execution_count": 14,
   "metadata": {
    "colab": {
     "base_uri": "https://localhost:8080/"
    },
    "executionInfo": {
     "elapsed": 1,
     "status": "ok",
     "timestamp": 1696985337104,
     "user": {
      "displayName": "이승문",
      "userId": "17091695928167721952"
     },
     "user_tz": -540
    },
    "id": "hPRaMKpbTL0-",
    "outputId": "a009d97d-2ac7-4365-8c84-f87d96bc373f"
   },
   "outputs": [
    {
     "name": "stdout",
     "output_type": "stream",
     "text": [
      "Decoder(\n",
      "  (fc1): Sequential(\n",
      "    (0): Linear(in_features=10, out_features=400, bias=True)\n",
      "    (1): ReLU()\n",
      "    (2): Dropout(p=0.2, inplace=False)\n",
      "  )\n",
      "  (fc2): Sequential(\n",
      "    (0): Linear(in_features=400, out_features=400, bias=True)\n",
      "    (1): ReLU()\n",
      "    (2): Dropout(p=0.2, inplace=False)\n",
      "  )\n",
      "  (fc3): Linear(in_features=400, out_features=784, bias=True)\n",
      ")\n"
     ]
    }
   ],
   "source": [
    "print(decoder)"
   ]
  },
  {
   "cell_type": "code",
   "execution_count": 15,
   "metadata": {
    "colab": {
     "base_uri": "https://localhost:8080/"
    },
    "executionInfo": {
     "elapsed": 732479,
     "status": "ok",
     "timestamp": 1696986070698,
     "user": {
      "displayName": "이승문",
      "userId": "17091695928167721952"
     },
     "user_tz": -540
    },
    "id": "usmbRBnL8NsL",
    "outputId": "d6b821c1-0271-441f-dd16-9e753fab130e"
   },
   "outputs": [
    {
     "name": "stdout",
     "output_type": "stream",
     "text": [
      "Epoch [1/10], Step [10/469], Reconst Loss : 29233.3105, KL Div: 852.7147\n",
      "Epoch [1/10], Step [20/469], Reconst Loss : 27566.8320, KL Div: 415.6074\n",
      "Epoch [1/10], Step [30/469], Reconst Loss : 26731.3457, KL Div: 180.0115\n",
      "Epoch [1/10], Step [40/469], Reconst Loss : 26596.7578, KL Div: 211.0909\n",
      "Epoch [1/10], Step [50/469], Reconst Loss : 25515.4121, KL Div: 340.7745\n",
      "Epoch [1/10], Step [60/469], Reconst Loss : 26105.2852, KL Div: 418.9705\n",
      "Epoch [1/10], Step [70/469], Reconst Loss : 25790.3633, KL Div: 270.9810\n",
      "Epoch [1/10], Step [80/469], Reconst Loss : 25291.1484, KL Div: 356.6006\n",
      "Epoch [1/10], Step [90/469], Reconst Loss : 25844.9199, KL Div: 283.8730\n",
      "Epoch [1/10], Step [100/469], Reconst Loss : 25475.3398, KL Div: 422.2252\n",
      "Epoch [1/10], Step [110/469], Reconst Loss : 26009.5938, KL Div: 384.5183\n",
      "Epoch [1/10], Step [120/469], Reconst Loss : 25221.0781, KL Div: 451.5322\n",
      "Epoch [1/10], Step [130/469], Reconst Loss : 25330.2383, KL Div: 462.7078\n",
      "Epoch [1/10], Step [140/469], Reconst Loss : 24707.6992, KL Div: 603.2718\n",
      "Epoch [1/10], Step [150/469], Reconst Loss : 24015.6758, KL Div: 605.5812\n",
      "Epoch [1/10], Step [160/469], Reconst Loss : 25352.1523, KL Div: 470.8535\n",
      "Epoch [1/10], Step [170/469], Reconst Loss : 23887.9023, KL Div: 512.1361\n",
      "Epoch [1/10], Step [180/469], Reconst Loss : 23619.7812, KL Div: 692.0642\n",
      "Epoch [1/10], Step [190/469], Reconst Loss : 24056.8945, KL Div: 699.5663\n",
      "Epoch [1/10], Step [200/469], Reconst Loss : 24630.5820, KL Div: 769.1562\n",
      "Epoch [1/10], Step [210/469], Reconst Loss : 23341.5898, KL Div: 796.7988\n",
      "Epoch [1/10], Step [220/469], Reconst Loss : 23427.7539, KL Div: 642.5753\n",
      "Epoch [1/10], Step [230/469], Reconst Loss : 23630.6328, KL Div: 893.6951\n",
      "Epoch [1/10], Step [240/469], Reconst Loss : 24155.2344, KL Div: 844.5269\n",
      "Epoch [1/10], Step [250/469], Reconst Loss : 23246.8086, KL Div: 846.7659\n",
      "Epoch [1/10], Step [260/469], Reconst Loss : 23362.9746, KL Div: 878.9108\n",
      "Epoch [1/10], Step [270/469], Reconst Loss : 22810.7031, KL Div: 848.7650\n",
      "Epoch [1/10], Step [280/469], Reconst Loss : 22857.7520, KL Div: 917.4538\n",
      "Epoch [1/10], Step [290/469], Reconst Loss : 22931.8652, KL Div: 917.3826\n",
      "Epoch [1/10], Step [300/469], Reconst Loss : 23684.4551, KL Div: 866.8541\n",
      "Epoch [1/10], Step [310/469], Reconst Loss : 21533.9707, KL Div: 998.3475\n",
      "Epoch [1/10], Step [320/469], Reconst Loss : 22610.7227, KL Div: 1239.7830\n",
      "Epoch [1/10], Step [330/469], Reconst Loss : 22066.7207, KL Div: 1063.8900\n",
      "Epoch [1/10], Step [340/469], Reconst Loss : 22735.4258, KL Div: 1138.4709\n",
      "Epoch [1/10], Step [350/469], Reconst Loss : 22271.7754, KL Div: 1102.2979\n",
      "Epoch [1/10], Step [360/469], Reconst Loss : 21704.9766, KL Div: 1016.1424\n",
      "Epoch [1/10], Step [370/469], Reconst Loss : 22217.8691, KL Div: 1126.9246\n",
      "Epoch [1/10], Step [380/469], Reconst Loss : 22586.6914, KL Div: 1346.3396\n",
      "Epoch [1/10], Step [390/469], Reconst Loss : 22044.9902, KL Div: 1306.8120\n"
     ]
    },
    {
     "ename": "KeyboardInterrupt",
     "evalue": "",
     "output_type": "error",
     "traceback": [
      "\u001b[1;31m---------------------------------------------------------------------------\u001b[0m",
      "\u001b[1;31mKeyboardInterrupt\u001b[0m                         Traceback (most recent call last)",
      "Cell \u001b[1;32mIn[15], line 9\u001b[0m\n\u001b[0;32m      7\u001b[0m x \u001b[38;5;241m=\u001b[39m x\u001b[38;5;241m.\u001b[39mto(device)\n\u001b[0;32m      8\u001b[0m z, mu, logvar \u001b[38;5;241m=\u001b[39m encoder(x)\n\u001b[1;32m----> 9\u001b[0m x_reconst \u001b[38;5;241m=\u001b[39m \u001b[43mdecoder\u001b[49m\u001b[43m(\u001b[49m\u001b[43mz\u001b[49m\u001b[43m)\u001b[49m\n\u001b[0;32m     11\u001b[0m \u001b[38;5;66;03m# compute reconstruction loss and KL divergence\u001b[39;00m\n\u001b[0;32m     12\u001b[0m reconst_loss \u001b[38;5;241m=\u001b[39m F\u001b[38;5;241m.\u001b[39mbinary_cross_entropy(x_reconst, x, reduction\u001b[38;5;241m=\u001b[39m\u001b[38;5;124m'\u001b[39m\u001b[38;5;124msum\u001b[39m\u001b[38;5;124m'\u001b[39m)\n",
      "File \u001b[1;32m~\\miniforge3\\envs\\LGch\\lib\\site-packages\\torch\\nn\\modules\\module.py:1518\u001b[0m, in \u001b[0;36mModule._wrapped_call_impl\u001b[1;34m(self, *args, **kwargs)\u001b[0m\n\u001b[0;32m   1516\u001b[0m     \u001b[38;5;28;01mreturn\u001b[39;00m \u001b[38;5;28mself\u001b[39m\u001b[38;5;241m.\u001b[39m_compiled_call_impl(\u001b[38;5;241m*\u001b[39margs, \u001b[38;5;241m*\u001b[39m\u001b[38;5;241m*\u001b[39mkwargs)  \u001b[38;5;66;03m# type: ignore[misc]\u001b[39;00m\n\u001b[0;32m   1517\u001b[0m \u001b[38;5;28;01melse\u001b[39;00m:\n\u001b[1;32m-> 1518\u001b[0m     \u001b[38;5;28;01mreturn\u001b[39;00m \u001b[38;5;28mself\u001b[39m\u001b[38;5;241m.\u001b[39m_call_impl(\u001b[38;5;241m*\u001b[39margs, \u001b[38;5;241m*\u001b[39m\u001b[38;5;241m*\u001b[39mkwargs)\n",
      "File \u001b[1;32m~\\miniforge3\\envs\\LGch\\lib\\site-packages\\torch\\nn\\modules\\module.py:1527\u001b[0m, in \u001b[0;36mModule._call_impl\u001b[1;34m(self, *args, **kwargs)\u001b[0m\n\u001b[0;32m   1522\u001b[0m \u001b[38;5;66;03m# If we don't have any hooks, we want to skip the rest of the logic in\u001b[39;00m\n\u001b[0;32m   1523\u001b[0m \u001b[38;5;66;03m# this function, and just call forward.\u001b[39;00m\n\u001b[0;32m   1524\u001b[0m \u001b[38;5;28;01mif\u001b[39;00m \u001b[38;5;129;01mnot\u001b[39;00m (\u001b[38;5;28mself\u001b[39m\u001b[38;5;241m.\u001b[39m_backward_hooks \u001b[38;5;129;01mor\u001b[39;00m \u001b[38;5;28mself\u001b[39m\u001b[38;5;241m.\u001b[39m_backward_pre_hooks \u001b[38;5;129;01mor\u001b[39;00m \u001b[38;5;28mself\u001b[39m\u001b[38;5;241m.\u001b[39m_forward_hooks \u001b[38;5;129;01mor\u001b[39;00m \u001b[38;5;28mself\u001b[39m\u001b[38;5;241m.\u001b[39m_forward_pre_hooks\n\u001b[0;32m   1525\u001b[0m         \u001b[38;5;129;01mor\u001b[39;00m _global_backward_pre_hooks \u001b[38;5;129;01mor\u001b[39;00m _global_backward_hooks\n\u001b[0;32m   1526\u001b[0m         \u001b[38;5;129;01mor\u001b[39;00m _global_forward_hooks \u001b[38;5;129;01mor\u001b[39;00m _global_forward_pre_hooks):\n\u001b[1;32m-> 1527\u001b[0m     \u001b[38;5;28;01mreturn\u001b[39;00m forward_call(\u001b[38;5;241m*\u001b[39margs, \u001b[38;5;241m*\u001b[39m\u001b[38;5;241m*\u001b[39mkwargs)\n\u001b[0;32m   1529\u001b[0m \u001b[38;5;28;01mtry\u001b[39;00m:\n\u001b[0;32m   1530\u001b[0m     result \u001b[38;5;241m=\u001b[39m \u001b[38;5;28;01mNone\u001b[39;00m\n",
      "Cell \u001b[1;32mIn[10], line 24\u001b[0m, in \u001b[0;36mDecoder.forward\u001b[1;34m(self, z)\u001b[0m\n\u001b[0;32m     22\u001b[0m \u001b[38;5;28;01mdef\u001b[39;00m \u001b[38;5;21mforward\u001b[39m(\u001b[38;5;28mself\u001b[39m, z):\n\u001b[0;32m     23\u001b[0m     z \u001b[38;5;241m=\u001b[39m \u001b[38;5;28mself\u001b[39m\u001b[38;5;241m.\u001b[39mfc2(\u001b[38;5;28mself\u001b[39m\u001b[38;5;241m.\u001b[39mfc1(z))\n\u001b[1;32m---> 24\u001b[0m     x_reconst \u001b[38;5;241m=\u001b[39m \u001b[43mF\u001b[49m\u001b[38;5;241;43m.\u001b[39;49m\u001b[43msigmoid\u001b[49m\u001b[43m(\u001b[49m\u001b[38;5;28;43mself\u001b[39;49m\u001b[38;5;241;43m.\u001b[39;49m\u001b[43mfc3\u001b[49m\u001b[43m(\u001b[49m\u001b[43mz\u001b[49m\u001b[43m)\u001b[49m\u001b[43m)\u001b[49m\n\u001b[0;32m     25\u001b[0m     \u001b[38;5;28;01mreturn\u001b[39;00m x_reconst\n",
      "File \u001b[1;32m~\\miniforge3\\envs\\LGch\\lib\\site-packages\\torch\\nn\\functional.py:1981\u001b[0m, in \u001b[0;36msigmoid\u001b[1;34m(input)\u001b[0m\n\u001b[0;32m   1974\u001b[0m \u001b[38;5;28;01mdef\u001b[39;00m \u001b[38;5;21msigmoid\u001b[39m(\u001b[38;5;28minput\u001b[39m):\n\u001b[0;32m   1975\u001b[0m \u001b[38;5;250m    \u001b[39m\u001b[38;5;124mr\u001b[39m\u001b[38;5;124;03m\"\"\"sigmoid(input) -> Tensor\u001b[39;00m\n\u001b[0;32m   1976\u001b[0m \n\u001b[0;32m   1977\u001b[0m \u001b[38;5;124;03m    Applies the element-wise function :math:`\\text{Sigmoid}(x) = \\frac{1}{1 + \\exp(-x)}`\u001b[39;00m\n\u001b[0;32m   1978\u001b[0m \n\u001b[0;32m   1979\u001b[0m \u001b[38;5;124;03m    See :class:`~torch.nn.Sigmoid` for more details.\u001b[39;00m\n\u001b[0;32m   1980\u001b[0m \u001b[38;5;124;03m    \"\"\"\u001b[39;00m\n\u001b[1;32m-> 1981\u001b[0m     \u001b[38;5;28;01mreturn\u001b[39;00m \u001b[38;5;28;43minput\u001b[39;49m\u001b[38;5;241;43m.\u001b[39;49m\u001b[43msigmoid\u001b[49m\u001b[43m(\u001b[49m\u001b[43m)\u001b[49m\n",
      "\u001b[1;31mKeyboardInterrupt\u001b[0m: "
     ]
    }
   ],
   "source": [
    "\n",
    "for epoch in range(n_epochs):\n",
    "    #Train\n",
    "    train_loss = 0\n",
    "    for i, (x, _) in enumerate(train_dataloader):\n",
    "        # forward\n",
    "        x = x.view(-1, img_size**2)\n",
    "        x = x.to(device)\n",
    "        z, mu, logvar = encoder(x)\n",
    "        x_reconst = decoder(z)\n",
    "\n",
    "        # compute reconstruction loss and KL divergence\n",
    "        reconst_loss = F.binary_cross_entropy(x_reconst, x, reduction='sum')\n",
    "        kl_div = 0.5 * torch.sum(mu.pow(2) + logvar.exp() - logvar - 1)\n",
    "\n",
    "        # backprop and optimize\n",
    "        loss = reconst_loss + kl_div\n",
    "        optimizer.zero_grad()\n",
    "        loss.backward()\n",
    "        optimizer.step()\n",
    "\n",
    "        train_loss += loss.item()\n",
    "\n",
    "        if (i+1) % 10 == 0:\n",
    "            print(f'Epoch [{epoch+1}/{n_epochs}], Step [{i+1}/{len(train_dataloader)}], Reconst Loss : {reconst_loss.item():.4f}, KL Div: {kl_div.item():.4f}')\n",
    "\n",
    "    print(f'===> Epoch: {epoch+1} Average Train Loss: {train_loss/len(train_dataloader.dataset):.4f} ')\n",
    "    #Test\n",
    "    test_loss = 0\n",
    "    with torch.no_grad():\n",
    "        for i, (x, _) in enumerate(test_dataloader):\n",
    "            # forward\n",
    "            x = x.view(-1, img_size**2)\n",
    "            x = x.to(device)\n",
    "            z, mu, logvar = encoder(x)\n",
    "            x_reconst = decoder(z)\n",
    "\n",
    "            # compute reconstruction loss and KL divergence\n",
    "            reconst_loss = F.binary_cross_entropy(x_reconst, x, reduction='sum')\n",
    "            kl_div = 0.5 * torch.sum(mu.pow(2) + logvar.exp() - logvar - 1)\n",
    "\n",
    "            loss = reconst_loss + kl_div\n",
    "            test_loss += loss.item()\n",
    "\n",
    "            # save reconstruction images\n",
    "            if i==0:\n",
    "                x_concat = torch.cat([x.view(-1, 1, 28, 28), x_reconst.view(-1, 1, 28, 28)], dim=3)\n",
    "                # batch size 개수만큼의 이미지 쌍(input x, reconstructed x)이 저장됨\n",
    "                save_image(x_concat, os.path.join(image_path,f'reconst-epoch{epoch+1}.png'))\n",
    "\n",
    "        print(f'===> Epoch: {epoch+1} Average Test Loss: {test_loss/len(test_dataloader.dataset):.4f} ')\n",
    "\n",
    "        # save sampled images\n",
    "        z = torch.randn(batch_size, latent_dim).to(device) # N(0, 1)에서 z 샘플링\n",
    "        sampled_images = decoder(z)\n",
    "        save_image(sampled_images.view(-1, 1, 28, 28), os.path.join(image_path,f'sampled-epoch{epoch+1}.png'))\n"
   ]
  },
  {
   "cell_type": "code",
   "execution_count": null,
   "metadata": {},
   "outputs": [],
   "source": []
  }
 ],
 "metadata": {
  "colab": {
   "provenance": [
    {
     "file_id": "1PlI2kvxAOH3BD3HvgAdCX6MWlAiB-S96",
     "timestamp": 1693459599943
    },
    {
     "file_id": "11PaOMTiwaLUrb2N9_5rNVHA5AF4IRhh1",
     "timestamp": 1657520159122
    },
    {
     "file_id": "1CvST-AI7NKuYh5p-OZpMWKNqI19T28LG",
     "timestamp": 1657439802308
    }
   ]
  },
  "kernelspec": {
   "display_name": "Python 3 (ipykernel)",
   "language": "python",
   "name": "python3"
  },
  "language_info": {
   "codemirror_mode": {
    "name": "ipython",
    "version": 3
   },
   "file_extension": ".py",
   "mimetype": "text/x-python",
   "name": "python",
   "nbconvert_exporter": "python",
   "pygments_lexer": "ipython3",
   "version": "3.9.12"
  }
 },
 "nbformat": 4,
 "nbformat_minor": 4
}
