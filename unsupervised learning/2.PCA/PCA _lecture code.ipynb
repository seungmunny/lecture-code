{
 "cells": [
  {
   "cell_type": "code",
   "execution_count": null,
   "metadata": {
    "id": "6-5IBGUHAPKC"
   },
   "outputs": [],
   "source": [
    "from sklearn.datasets import load_iris\n",
    "from sklearn.preprocessing import StandardScaler\n",
    "import pandas as pd\n",
    "import numpy as np"
   ]
  },
  {
   "cell_type": "code",
   "execution_count": null,
   "metadata": {
    "id": "ZkWHkdvQAQ0J"
   },
   "outputs": [],
   "source": [
    "# 데이터셋 로드\n",
    "iris = load_iris()\n",
    "df = pd.DataFrame(data= np.c_[iris.data])\n",
    "df"
   ]
  },
  {
   "cell_type": "code",
   "execution_count": null,
   "metadata": {
    "id": "6SN7P7hLASNh"
   },
   "outputs": [],
   "source": [
    "# 데이터셋 표준화\n",
    "scaler = #####빈칸을 채우세요######()\n",
    "scaler.fit(df)\n",
    "df_scaled = scaler.transform(df)"
   ]
  },
  {
   "cell_type": "code",
   "execution_count": null,
   "metadata": {
    "id": "ebjsACRjholn"
   },
   "outputs": [],
   "source": [
    "# 데이터 프레임으로 자료형 변환 및 target class 정보 추가\n",
    "df_scaled = pd.DataFrame(df_scaled, columns= ['sepal length', 'sepal width', 'petal length', 'petal width'])\n",
    "df_scaled['target'] = iris.target\n",
    "\n",
    "df_scaled"
   ]
  },
  {
   "cell_type": "markdown",
   "metadata": {
    "id": "6j1KyhXGR8lL"
   },
   "source": [
    "PCA 알고리즘 불러오기 및 실행"
   ]
  },
  {
   "cell_type": "code",
   "execution_count": null,
   "metadata": {
    "id": "J3PR7pIB7Kdo"
   },
   "outputs": [],
   "source": [
    "from sklearn.decomposition import PCA\n",
    "\n",
    "# 2차원으로 차원 축소, target 정보는 제외\n",
    "pca = PCA(n_components = 2)\n",
    "pca.fit(df_scaled.iloc[:,:-1])\n",
    "\n",
    "# pca transform 후 데이터프레임으로 자료형 변경\n",
    "df_pca = pca.transform(df_scaled.iloc[:,:-1])\n",
    "df_pca = pd.DataFrame(df_pca, columns = ['component 0', 'component 1'])\n"
   ]
  },
  {
   "cell_type": "code",
   "execution_count": null,
   "metadata": {
    "id": "gkZ3srKYFc8f"
   },
   "outputs": [],
   "source": [
    "df_pca"
   ]
  },
  {
   "cell_type": "code",
   "execution_count": null,
   "metadata": {
    "id": "3ZzYOPD47OUw"
   },
   "outputs": [],
   "source": [
    "# PCA 주성분 설명력 출력\n",
    "\n",
    "print(pca.explained_variance_ratio_)"
   ]
  },
  {
   "cell_type": "code",
   "execution_count": null,
   "metadata": {
    "id": "Nk2ooD8k7QOP"
   },
   "outputs": [],
   "source": [
    "import matplotlib.pyplot as plt\n",
    "\n",
    "# class target 정보 불러오기\n",
    "df_pca['target'] = df_scaled['target']\n",
    "\n",
    "# target 별 분리\n",
    "df_pca_0 = df_pca[df_pca['target'] == 0]\n",
    "df_pca_1 = df_pca[df_pca['target'] == 1]\n",
    "df_pca_2 = df_pca[df_pca['target'] == 2]\n",
    "\n",
    "# target 별 시각화\n",
    "plt.scatter(df_pca_0['component 0'], df_pca_0['component 1'], color = 'orange', alpha = 0.7, label = 'setosa')\n",
    "plt.scatter(df_pca_1['component 0'], df_pca_1['component 1'], color = 'red', alpha = 0.7, label = 'versicolor')\n",
    "plt.scatter(df_pca_2['component 0'], df_pca_2['component 1'], color = 'green', alpha = 0.7, label = 'virginica')\n",
    "\n",
    "plt.xlabel('component 0')\n",
    "plt.ylabel('component 1')\n",
    "plt.legend()\n",
    "plt.show()"
   ]
  }
 ],
 "metadata": {
  "colab": {
   "authorship_tag": "ABX9TyOnCup8iOM3XtllUH9EHV52",
   "provenance": []
  },
  "kernelspec": {
   "display_name": "Python 3 (ipykernel)",
   "language": "python",
   "name": "python3"
  },
  "language_info": {
   "codemirror_mode": {
    "name": "ipython",
    "version": 3
   },
   "file_extension": ".py",
   "mimetype": "text/x-python",
   "name": "python",
   "nbconvert_exporter": "python",
   "pygments_lexer": "ipython3",
   "version": "3.9.12"
  }
 },
 "nbformat": 4,
 "nbformat_minor": 4
}
