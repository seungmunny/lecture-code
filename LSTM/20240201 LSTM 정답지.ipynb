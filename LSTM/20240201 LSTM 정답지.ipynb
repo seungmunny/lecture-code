{
 "cells": [
  {
   "cell_type": "markdown",
   "metadata": {
    "id": "ZtHeYlbySyHf"
   },
   "source": [
    "Import libraries"
   ]
  },
  {
   "cell_type": "code",
   "execution_count": 1,
   "metadata": {
    "id": "RJr4lsl59zqH"
   },
   "outputs": [],
   "source": [
    "import os\n",
    "import datetime\n",
    "\n",
    "import IPython\n",
    "import IPython.display\n",
    "import matplotlib as mpl\n",
    "import matplotlib.pyplot as plt\n",
    "import numpy as np\n",
    "import pandas as pd\n",
    "import seaborn as sns\n",
    "import tensorflow as tf\n",
    "from sklearn.preprocessing import MinMaxScaler\n",
    "import torch\n",
    "from torch.utils.data import TensorDataset # 텐서데이터셋\n",
    "from torch.utils.data import DataLoader # 데이터로더\n",
    "\n",
    "mpl.rcParams['figure.figsize'] = (8, 6)\n",
    "mpl.rcParams['axes.grid'] = False"
   ]
  },
  {
   "cell_type": "markdown",
   "metadata": {
    "id": "diwc2PkQS7gY"
   },
   "source": [
    "데이터 로드"
   ]
  },
  {
   "cell_type": "code",
   "execution_count": 37,
   "metadata": {
    "colab": {
     "base_uri": "https://localhost:8080/"
    },
    "executionInfo": {
     "elapsed": 1450,
     "status": "ok",
     "timestamp": 1698826313669,
     "user": {
      "displayName": "이승문",
      "userId": "17091695928167721952"
     },
     "user_tz": -540
    },
    "id": "Wg9sbgju9jCk",
    "outputId": "c5865593-c8f2-4b61-e748-7cdcdfbb2b9f"
   },
   "outputs": [
    {
     "data": {
      "text/html": [
       "<div>\n",
       "<style scoped>\n",
       "    .dataframe tbody tr th:only-of-type {\n",
       "        vertical-align: middle;\n",
       "    }\n",
       "\n",
       "    .dataframe tbody tr th {\n",
       "        vertical-align: top;\n",
       "    }\n",
       "\n",
       "    .dataframe thead th {\n",
       "        text-align: right;\n",
       "    }\n",
       "</style>\n",
       "<table border=\"1\" class=\"dataframe\">\n",
       "  <thead>\n",
       "    <tr style=\"text-align: right;\">\n",
       "      <th></th>\n",
       "      <th>sensor1</th>\n",
       "      <th>sensor2</th>\n",
       "      <th>time_x</th>\n",
       "      <th>speedSet</th>\n",
       "      <th>load_value</th>\n",
       "      <th>gear_fault_desc</th>\n",
       "    </tr>\n",
       "  </thead>\n",
       "  <tbody>\n",
       "    <tr>\n",
       "      <th>0</th>\n",
       "      <td>2.523465</td>\n",
       "      <td>2.430168</td>\n",
       "      <td>2023-05-03 21:47:31.000000</td>\n",
       "      <td>8.332031</td>\n",
       "      <td>0</td>\n",
       "      <td>No fault</td>\n",
       "    </tr>\n",
       "    <tr>\n",
       "      <th>1</th>\n",
       "      <td>2.521494</td>\n",
       "      <td>2.430003</td>\n",
       "      <td>2023-05-03 21:47:31.000200</td>\n",
       "      <td>8.332031</td>\n",
       "      <td>0</td>\n",
       "      <td>No fault</td>\n",
       "    </tr>\n",
       "    <tr>\n",
       "      <th>2</th>\n",
       "      <td>2.522479</td>\n",
       "      <td>2.429675</td>\n",
       "      <td>2023-05-03 21:47:31.000400</td>\n",
       "      <td>8.332031</td>\n",
       "      <td>0</td>\n",
       "      <td>No fault</td>\n",
       "    </tr>\n",
       "    <tr>\n",
       "      <th>3</th>\n",
       "      <td>2.521330</td>\n",
       "      <td>2.431810</td>\n",
       "      <td>2023-05-03 21:47:31.000600</td>\n",
       "      <td>8.332031</td>\n",
       "      <td>0</td>\n",
       "      <td>No fault</td>\n",
       "    </tr>\n",
       "    <tr>\n",
       "      <th>4</th>\n",
       "      <td>2.522479</td>\n",
       "      <td>2.431317</td>\n",
       "      <td>2023-05-03 21:47:31.000800</td>\n",
       "      <td>8.332031</td>\n",
       "      <td>0</td>\n",
       "      <td>No fault</td>\n",
       "    </tr>\n",
       "    <tr>\n",
       "      <th>...</th>\n",
       "      <td>...</td>\n",
       "      <td>...</td>\n",
       "      <td>...</td>\n",
       "      <td>...</td>\n",
       "      <td>...</td>\n",
       "      <td>...</td>\n",
       "    </tr>\n",
       "    <tr>\n",
       "      <th>149995</th>\n",
       "      <td>2.549417</td>\n",
       "      <td>2.441830</td>\n",
       "      <td>2023-05-03 22:06:06.999000</td>\n",
       "      <td>40.000000</td>\n",
       "      <td>80</td>\n",
       "      <td>No fault</td>\n",
       "    </tr>\n",
       "    <tr>\n",
       "      <th>149996</th>\n",
       "      <td>2.496363</td>\n",
       "      <td>2.453820</td>\n",
       "      <td>2023-05-03 22:06:06.999200</td>\n",
       "      <td>40.000000</td>\n",
       "      <td>80</td>\n",
       "      <td>No fault</td>\n",
       "    </tr>\n",
       "    <tr>\n",
       "      <th>149997</th>\n",
       "      <td>2.520837</td>\n",
       "      <td>2.418505</td>\n",
       "      <td>2023-05-03 22:06:06.999400</td>\n",
       "      <td>40.000000</td>\n",
       "      <td>80</td>\n",
       "      <td>No fault</td>\n",
       "    </tr>\n",
       "    <tr>\n",
       "      <th>149998</th>\n",
       "      <td>2.499319</td>\n",
       "      <td>2.417027</td>\n",
       "      <td>2023-05-03 22:06:06.999600</td>\n",
       "      <td>40.000000</td>\n",
       "      <td>80</td>\n",
       "      <td>No fault</td>\n",
       "    </tr>\n",
       "    <tr>\n",
       "      <th>149999</th>\n",
       "      <td>2.515088</td>\n",
       "      <td>2.419984</td>\n",
       "      <td>2023-05-03 22:06:06.999800</td>\n",
       "      <td>40.000000</td>\n",
       "      <td>80</td>\n",
       "      <td>No fault</td>\n",
       "    </tr>\n",
       "  </tbody>\n",
       "</table>\n",
       "<p>150000 rows × 6 columns</p>\n",
       "</div>"
      ],
      "text/plain": [
       "         sensor1   sensor2                      time_x   speedSet  load_value  \\\n",
       "0       2.523465  2.430168  2023-05-03 21:47:31.000000   8.332031           0   \n",
       "1       2.521494  2.430003  2023-05-03 21:47:31.000200   8.332031           0   \n",
       "2       2.522479  2.429675  2023-05-03 21:47:31.000400   8.332031           0   \n",
       "3       2.521330  2.431810  2023-05-03 21:47:31.000600   8.332031           0   \n",
       "4       2.522479  2.431317  2023-05-03 21:47:31.000800   8.332031           0   \n",
       "...          ...       ...                         ...        ...         ...   \n",
       "149995  2.549417  2.441830  2023-05-03 22:06:06.999000  40.000000          80   \n",
       "149996  2.496363  2.453820  2023-05-03 22:06:06.999200  40.000000          80   \n",
       "149997  2.520837  2.418505  2023-05-03 22:06:06.999400  40.000000          80   \n",
       "149998  2.499319  2.417027  2023-05-03 22:06:06.999600  40.000000          80   \n",
       "149999  2.515088  2.419984  2023-05-03 22:06:06.999800  40.000000          80   \n",
       "\n",
       "       gear_fault_desc  \n",
       "0             No fault  \n",
       "1             No fault  \n",
       "2             No fault  \n",
       "3             No fault  \n",
       "4             No fault  \n",
       "...                ...  \n",
       "149995        No fault  \n",
       "149996        No fault  \n",
       "149997        No fault  \n",
       "149998        No fault  \n",
       "149999        No fault  \n",
       "\n",
       "[150000 rows x 6 columns]"
      ]
     },
     "execution_count": 37,
     "metadata": {},
     "output_type": "execute_result"
    }
   ],
   "source": [
    "df=pd.read_csv(\"dataset/no_fault.csv\")\n",
    "df"
   ]
  },
  {
   "cell_type": "markdown",
   "metadata": {
    "id": "9Xuhf1m7TDLc"
   },
   "source": [
    "데이터 전처리"
   ]
  },
  {
   "cell_type": "code",
   "execution_count": 38,
   "metadata": {
    "colab": {
     "base_uri": "https://localhost:8080/",
     "height": 206
    },
    "executionInfo": {
     "elapsed": 9,
     "status": "ok",
     "timestamp": 1698826314911,
     "user": {
      "displayName": "이승문",
      "userId": "17091695928167721952"
     },
     "user_tz": -540
    },
    "id": "Ba77aUgMRplf",
    "outputId": "05efd76a-cee6-48b4-e9d6-db741622fa1f"
   },
   "outputs": [
    {
     "data": {
      "text/html": [
       "<div>\n",
       "<style scoped>\n",
       "    .dataframe tbody tr th:only-of-type {\n",
       "        vertical-align: middle;\n",
       "    }\n",
       "\n",
       "    .dataframe tbody tr th {\n",
       "        vertical-align: top;\n",
       "    }\n",
       "\n",
       "    .dataframe thead th {\n",
       "        text-align: right;\n",
       "    }\n",
       "</style>\n",
       "<table border=\"1\" class=\"dataframe\">\n",
       "  <thead>\n",
       "    <tr style=\"text-align: right;\">\n",
       "      <th></th>\n",
       "      <th>sensor1</th>\n",
       "      <th>sensor2</th>\n",
       "      <th>time_x</th>\n",
       "      <th>speedSet</th>\n",
       "      <th>load_value</th>\n",
       "      <th>gear_fault_desc</th>\n",
       "    </tr>\n",
       "  </thead>\n",
       "  <tbody>\n",
       "    <tr>\n",
       "      <th>0</th>\n",
       "      <td>2.523465</td>\n",
       "      <td>2.430168</td>\n",
       "      <td>2023-05-03 21:47:31.000000</td>\n",
       "      <td>8.332031</td>\n",
       "      <td>0</td>\n",
       "      <td>No fault</td>\n",
       "    </tr>\n",
       "    <tr>\n",
       "      <th>1</th>\n",
       "      <td>2.521494</td>\n",
       "      <td>2.430003</td>\n",
       "      <td>2023-05-03 21:47:31.000200</td>\n",
       "      <td>8.332031</td>\n",
       "      <td>0</td>\n",
       "      <td>No fault</td>\n",
       "    </tr>\n",
       "    <tr>\n",
       "      <th>2</th>\n",
       "      <td>2.522479</td>\n",
       "      <td>2.429675</td>\n",
       "      <td>2023-05-03 21:47:31.000400</td>\n",
       "      <td>8.332031</td>\n",
       "      <td>0</td>\n",
       "      <td>No fault</td>\n",
       "    </tr>\n",
       "    <tr>\n",
       "      <th>3</th>\n",
       "      <td>2.521330</td>\n",
       "      <td>2.431810</td>\n",
       "      <td>2023-05-03 21:47:31.000600</td>\n",
       "      <td>8.332031</td>\n",
       "      <td>0</td>\n",
       "      <td>No fault</td>\n",
       "    </tr>\n",
       "    <tr>\n",
       "      <th>4</th>\n",
       "      <td>2.522479</td>\n",
       "      <td>2.431317</td>\n",
       "      <td>2023-05-03 21:47:31.000800</td>\n",
       "      <td>8.332031</td>\n",
       "      <td>0</td>\n",
       "      <td>No fault</td>\n",
       "    </tr>\n",
       "  </tbody>\n",
       "</table>\n",
       "</div>"
      ],
      "text/plain": [
       "    sensor1   sensor2                      time_x  speedSet  load_value  \\\n",
       "0  2.523465  2.430168  2023-05-03 21:47:31.000000  8.332031           0   \n",
       "1  2.521494  2.430003  2023-05-03 21:47:31.000200  8.332031           0   \n",
       "2  2.522479  2.429675  2023-05-03 21:47:31.000400  8.332031           0   \n",
       "3  2.521330  2.431810  2023-05-03 21:47:31.000600  8.332031           0   \n",
       "4  2.522479  2.431317  2023-05-03 21:47:31.000800  8.332031           0   \n",
       "\n",
       "  gear_fault_desc  \n",
       "0        No fault  \n",
       "1        No fault  \n",
       "2        No fault  \n",
       "3        No fault  \n",
       "4        No fault  "
      ]
     },
     "execution_count": 38,
     "metadata": {},
     "output_type": "execute_result"
    }
   ],
   "source": [
    "df.head()"
   ]
  },
  {
   "cell_type": "code",
   "execution_count": 39,
   "metadata": {
    "id": "tOgh8XwOXYV1"
   },
   "outputs": [],
   "source": [
    "date_time = pd.to_datetime(df.pop('time_x'), format='%Y-%m-%d %H:%M:%S.%f')\n",
    "df=df.drop(['gear_fault_desc'], axis=1)\n",
    "df = df[['speedSet', 'load_value','sensor1', 'sensor2']]"
   ]
  },
  {
   "cell_type": "code",
   "execution_count": 40,
   "metadata": {
    "colab": {
     "base_uri": "https://localhost:8080/",
     "height": 206
    },
    "executionInfo": {
     "elapsed": 8,
     "status": "ok",
     "timestamp": 1698826314911,
     "user": {
      "displayName": "이승문",
      "userId": "17091695928167721952"
     },
     "user_tz": -540
    },
    "id": "fX7x94TTVqwA",
    "outputId": "310c15a0-a43e-40f5-aa64-5fb9632ee0ac"
   },
   "outputs": [
    {
     "data": {
      "text/html": [
       "<div>\n",
       "<style scoped>\n",
       "    .dataframe tbody tr th:only-of-type {\n",
       "        vertical-align: middle;\n",
       "    }\n",
       "\n",
       "    .dataframe tbody tr th {\n",
       "        vertical-align: top;\n",
       "    }\n",
       "\n",
       "    .dataframe thead th {\n",
       "        text-align: right;\n",
       "    }\n",
       "</style>\n",
       "<table border=\"1\" class=\"dataframe\">\n",
       "  <thead>\n",
       "    <tr style=\"text-align: right;\">\n",
       "      <th></th>\n",
       "      <th>speedSet</th>\n",
       "      <th>load_value</th>\n",
       "      <th>sensor1</th>\n",
       "      <th>sensor2</th>\n",
       "    </tr>\n",
       "  </thead>\n",
       "  <tbody>\n",
       "    <tr>\n",
       "      <th>0</th>\n",
       "      <td>8.332031</td>\n",
       "      <td>0</td>\n",
       "      <td>2.523465</td>\n",
       "      <td>2.430168</td>\n",
       "    </tr>\n",
       "    <tr>\n",
       "      <th>1</th>\n",
       "      <td>8.332031</td>\n",
       "      <td>0</td>\n",
       "      <td>2.521494</td>\n",
       "      <td>2.430003</td>\n",
       "    </tr>\n",
       "    <tr>\n",
       "      <th>2</th>\n",
       "      <td>8.332031</td>\n",
       "      <td>0</td>\n",
       "      <td>2.522479</td>\n",
       "      <td>2.429675</td>\n",
       "    </tr>\n",
       "    <tr>\n",
       "      <th>3</th>\n",
       "      <td>8.332031</td>\n",
       "      <td>0</td>\n",
       "      <td>2.521330</td>\n",
       "      <td>2.431810</td>\n",
       "    </tr>\n",
       "    <tr>\n",
       "      <th>4</th>\n",
       "      <td>8.332031</td>\n",
       "      <td>0</td>\n",
       "      <td>2.522479</td>\n",
       "      <td>2.431317</td>\n",
       "    </tr>\n",
       "  </tbody>\n",
       "</table>\n",
       "</div>"
      ],
      "text/plain": [
       "   speedSet  load_value   sensor1   sensor2\n",
       "0  8.332031           0  2.523465  2.430168\n",
       "1  8.332031           0  2.521494  2.430003\n",
       "2  8.332031           0  2.522479  2.429675\n",
       "3  8.332031           0  2.521330  2.431810\n",
       "4  8.332031           0  2.522479  2.431317"
      ]
     },
     "execution_count": 40,
     "metadata": {},
     "output_type": "execute_result"
    }
   ],
   "source": [
    "df.head()"
   ]
  },
  {
   "cell_type": "code",
   "execution_count": 41,
   "metadata": {
    "colab": {
     "base_uri": "https://localhost:8080/",
     "height": 300
    },
    "executionInfo": {
     "elapsed": 7,
     "status": "ok",
     "timestamp": 1698826314911,
     "user": {
      "displayName": "이승문",
      "userId": "17091695928167721952"
     },
     "user_tz": -540
    },
    "id": "s1jlq4ZFre5a",
    "outputId": "8d26f795-0aef-4407-d047-71d33bb60fe1"
   },
   "outputs": [
    {
     "data": {
      "text/html": [
       "<div>\n",
       "<style scoped>\n",
       "    .dataframe tbody tr th:only-of-type {\n",
       "        vertical-align: middle;\n",
       "    }\n",
       "\n",
       "    .dataframe tbody tr th {\n",
       "        vertical-align: top;\n",
       "    }\n",
       "\n",
       "    .dataframe thead th {\n",
       "        text-align: right;\n",
       "    }\n",
       "</style>\n",
       "<table border=\"1\" class=\"dataframe\">\n",
       "  <thead>\n",
       "    <tr style=\"text-align: right;\">\n",
       "      <th></th>\n",
       "      <th>speedSet</th>\n",
       "      <th>load_value</th>\n",
       "      <th>sensor1</th>\n",
       "      <th>sensor2</th>\n",
       "    </tr>\n",
       "  </thead>\n",
       "  <tbody>\n",
       "    <tr>\n",
       "      <th>count</th>\n",
       "      <td>150000.000000</td>\n",
       "      <td>150000.000000</td>\n",
       "      <td>150000.000000</td>\n",
       "      <td>150000.000000</td>\n",
       "    </tr>\n",
       "    <tr>\n",
       "      <th>mean</th>\n",
       "      <td>24.444010</td>\n",
       "      <td>40.000000</td>\n",
       "      <td>2.520499</td>\n",
       "      <td>2.429825</td>\n",
       "    </tr>\n",
       "    <tr>\n",
       "      <th>std</th>\n",
       "      <td>12.934413</td>\n",
       "      <td>40.000133</td>\n",
       "      <td>0.007967</td>\n",
       "      <td>0.006862</td>\n",
       "    </tr>\n",
       "    <tr>\n",
       "      <th>min</th>\n",
       "      <td>8.332031</td>\n",
       "      <td>0.000000</td>\n",
       "      <td>2.451357</td>\n",
       "      <td>2.378756</td>\n",
       "    </tr>\n",
       "    <tr>\n",
       "      <th>25%</th>\n",
       "      <td>8.332031</td>\n",
       "      <td>0.000000</td>\n",
       "      <td>2.517223</td>\n",
       "      <td>2.426882</td>\n",
       "    </tr>\n",
       "    <tr>\n",
       "      <th>50%</th>\n",
       "      <td>25.000000</td>\n",
       "      <td>40.000000</td>\n",
       "      <td>2.520837</td>\n",
       "      <td>2.430003</td>\n",
       "    </tr>\n",
       "    <tr>\n",
       "      <th>75%</th>\n",
       "      <td>40.000000</td>\n",
       "      <td>80.000000</td>\n",
       "      <td>2.523136</td>\n",
       "      <td>2.432139</td>\n",
       "    </tr>\n",
       "    <tr>\n",
       "      <th>max</th>\n",
       "      <td>40.000000</td>\n",
       "      <td>80.000000</td>\n",
       "      <td>2.592781</td>\n",
       "      <td>2.493242</td>\n",
       "    </tr>\n",
       "  </tbody>\n",
       "</table>\n",
       "</div>"
      ],
      "text/plain": [
       "            speedSet     load_value        sensor1        sensor2\n",
       "count  150000.000000  150000.000000  150000.000000  150000.000000\n",
       "mean       24.444010      40.000000       2.520499       2.429825\n",
       "std        12.934413      40.000133       0.007967       0.006862\n",
       "min         8.332031       0.000000       2.451357       2.378756\n",
       "25%         8.332031       0.000000       2.517223       2.426882\n",
       "50%        25.000000      40.000000       2.520837       2.430003\n",
       "75%        40.000000      80.000000       2.523136       2.432139\n",
       "max        40.000000      80.000000       2.592781       2.493242"
      ]
     },
     "execution_count": 41,
     "metadata": {},
     "output_type": "execute_result"
    }
   ],
   "source": [
    "df.describe()"
   ]
  },
  {
   "cell_type": "markdown",
   "metadata": {
    "id": "aA7PGfyyu2_w"
   },
   "source": [
    "Train, test 데이터 분할"
   ]
  },
  {
   "cell_type": "code",
   "execution_count": 43,
   "metadata": {},
   "outputs": [
    {
     "data": {
      "image/png": "[encoded data removed]",
      "text/plain": [
       "<Figure size 432x288 with 4 Axes>"
      ]
     },
     "metadata": {
      "needs_background": "light"
     },
     "output_type": "display_data"
    }
   ],
   "source": [
    "#데이터 확인\n",
    "plot_cols = ['speedSet', 'load_value','sensor1', 'sensor2']\n",
    "plot_features = df[plot_cols]\n",
    "#plot_features.index = date_time\n",
    "_ = plot_features.plot(subplots=True)"
   ]
  },
  {
   "cell_type": "code",
   "execution_count": 45,
   "metadata": {},
   "outputs": [],
   "source": [
    "#train/test data 분할\n",
    "# 10개 데이터가 입력으로 들어가고 batch size는 임의로 지정\n",
    "seq_length = 7\n",
    "batch = 100\n",
    "\n",
    "#train_set = pd.concat([df.iloc[0:20000+2500], df.iloc[25000:45000+2500], df.iloc[50000:70000+2500],\n",
    "#                        df.iloc[75000:95000+2500], df.iloc[100000:120000+2500], df.iloc[125000:145000+2500]])\n",
    "\n",
    "#test_set = pd.concat([df.iloc[20000+2500:25000], df.iloc[45000+2500:50000], df.iloc[70000+2500:75000],\n",
    "#                       df.iloc[95000+2500:100000], df.iloc[120000+2500:125000], df.iloc[145000+2500:]])\n",
    "\n",
    "data=0\n",
    "train_set = df[data*25000:data*25000+14000]\n",
    "test_set = df[data*25000+14000-seq_length:data*25000+20000]\n",
    "\n",
    "#train_set = df[data*25000+2500:data*25000+25000]\n",
    "#test_set = df[data*25000:data*25000+2500]\n",
    "\n",
    "\n",
    "# train_set.reset_index(drop=True, inplace=True)\n",
    "# test_set.reset_index(drop=True, inplace=True)\n",
    "\n"
   ]
  },
  {
   "cell_type": "code",
   "execution_count": 46,
   "metadata": {},
   "outputs": [
    {
     "data": {
      "text/html": [
       "<div>\n",
       "<style scoped>\n",
       "    .dataframe tbody tr th:only-of-type {\n",
       "        vertical-align: middle;\n",
       "    }\n",
       "\n",
       "    .dataframe tbody tr th {\n",
       "        vertical-align: top;\n",
       "    }\n",
       "\n",
       "    .dataframe thead th {\n",
       "        text-align: right;\n",
       "    }\n",
       "</style>\n",
       "<table border=\"1\" class=\"dataframe\">\n",
       "  <thead>\n",
       "    <tr style=\"text-align: right;\">\n",
       "      <th></th>\n",
       "      <th>speedSet</th>\n",
       "      <th>load_value</th>\n",
       "      <th>sensor1</th>\n",
       "      <th>sensor2</th>\n",
       "    </tr>\n",
       "  </thead>\n",
       "  <tbody>\n",
       "    <tr>\n",
       "      <th>0</th>\n",
       "      <td>8.332031</td>\n",
       "      <td>0</td>\n",
       "      <td>2.523465</td>\n",
       "      <td>2.430168</td>\n",
       "    </tr>\n",
       "    <tr>\n",
       "      <th>1</th>\n",
       "      <td>8.332031</td>\n",
       "      <td>0</td>\n",
       "      <td>2.521494</td>\n",
       "      <td>2.430003</td>\n",
       "    </tr>\n",
       "    <tr>\n",
       "      <th>2</th>\n",
       "      <td>8.332031</td>\n",
       "      <td>0</td>\n",
       "      <td>2.522479</td>\n",
       "      <td>2.429675</td>\n",
       "    </tr>\n",
       "    <tr>\n",
       "      <th>3</th>\n",
       "      <td>8.332031</td>\n",
       "      <td>0</td>\n",
       "      <td>2.521330</td>\n",
       "      <td>2.431810</td>\n",
       "    </tr>\n",
       "    <tr>\n",
       "      <th>4</th>\n",
       "      <td>8.332031</td>\n",
       "      <td>0</td>\n",
       "      <td>2.522479</td>\n",
       "      <td>2.431317</td>\n",
       "    </tr>\n",
       "    <tr>\n",
       "      <th>...</th>\n",
       "      <td>...</td>\n",
       "      <td>...</td>\n",
       "      <td>...</td>\n",
       "      <td>...</td>\n",
       "    </tr>\n",
       "    <tr>\n",
       "      <th>13995</th>\n",
       "      <td>8.332031</td>\n",
       "      <td>0</td>\n",
       "      <td>2.521165</td>\n",
       "      <td>2.431646</td>\n",
       "    </tr>\n",
       "    <tr>\n",
       "      <th>13996</th>\n",
       "      <td>8.332031</td>\n",
       "      <td>0</td>\n",
       "      <td>2.521987</td>\n",
       "      <td>2.430168</td>\n",
       "    </tr>\n",
       "    <tr>\n",
       "      <th>13997</th>\n",
       "      <td>8.332031</td>\n",
       "      <td>0</td>\n",
       "      <td>2.521494</td>\n",
       "      <td>2.430825</td>\n",
       "    </tr>\n",
       "    <tr>\n",
       "      <th>13998</th>\n",
       "      <td>8.332031</td>\n",
       "      <td>0</td>\n",
       "      <td>2.521165</td>\n",
       "      <td>2.430825</td>\n",
       "    </tr>\n",
       "    <tr>\n",
       "      <th>13999</th>\n",
       "      <td>8.332031</td>\n",
       "      <td>0</td>\n",
       "      <td>2.521330</td>\n",
       "      <td>2.431482</td>\n",
       "    </tr>\n",
       "  </tbody>\n",
       "</table>\n",
       "<p>14000 rows × 4 columns</p>\n",
       "</div>"
      ],
      "text/plain": [
       "       speedSet  load_value   sensor1   sensor2\n",
       "0      8.332031           0  2.523465  2.430168\n",
       "1      8.332031           0  2.521494  2.430003\n",
       "2      8.332031           0  2.522479  2.429675\n",
       "3      8.332031           0  2.521330  2.431810\n",
       "4      8.332031           0  2.522479  2.431317\n",
       "...         ...         ...       ...       ...\n",
       "13995  8.332031           0  2.521165  2.431646\n",
       "13996  8.332031           0  2.521987  2.430168\n",
       "13997  8.332031           0  2.521494  2.430825\n",
       "13998  8.332031           0  2.521165  2.430825\n",
       "13999  8.332031           0  2.521330  2.431482\n",
       "\n",
       "[14000 rows x 4 columns]"
      ]
     },
     "execution_count": 46,
     "metadata": {},
     "output_type": "execute_result"
    }
   ],
   "source": [
    "train_set"
   ]
  },
  {
   "cell_type": "code",
   "execution_count": 47,
   "metadata": {},
   "outputs": [
    {
     "data": {
      "text/html": [
       "<div>\n",
       "<style scoped>\n",
       "    .dataframe tbody tr th:only-of-type {\n",
       "        vertical-align: middle;\n",
       "    }\n",
       "\n",
       "    .dataframe tbody tr th {\n",
       "        vertical-align: top;\n",
       "    }\n",
       "\n",
       "    .dataframe thead th {\n",
       "        text-align: right;\n",
       "    }\n",
       "</style>\n",
       "<table border=\"1\" class=\"dataframe\">\n",
       "  <thead>\n",
       "    <tr style=\"text-align: right;\">\n",
       "      <th></th>\n",
       "      <th>speedSet</th>\n",
       "      <th>load_value</th>\n",
       "      <th>sensor1</th>\n",
       "      <th>sensor2</th>\n",
       "    </tr>\n",
       "  </thead>\n",
       "  <tbody>\n",
       "    <tr>\n",
       "      <th>13993</th>\n",
       "      <td>8.332031</td>\n",
       "      <td>0</td>\n",
       "      <td>2.521165</td>\n",
       "      <td>2.430496</td>\n",
       "    </tr>\n",
       "    <tr>\n",
       "      <th>13994</th>\n",
       "      <td>8.332031</td>\n",
       "      <td>0</td>\n",
       "      <td>2.520508</td>\n",
       "      <td>2.430989</td>\n",
       "    </tr>\n",
       "    <tr>\n",
       "      <th>13995</th>\n",
       "      <td>8.332031</td>\n",
       "      <td>0</td>\n",
       "      <td>2.521165</td>\n",
       "      <td>2.431646</td>\n",
       "    </tr>\n",
       "    <tr>\n",
       "      <th>13996</th>\n",
       "      <td>8.332031</td>\n",
       "      <td>0</td>\n",
       "      <td>2.521987</td>\n",
       "      <td>2.430168</td>\n",
       "    </tr>\n",
       "    <tr>\n",
       "      <th>13997</th>\n",
       "      <td>8.332031</td>\n",
       "      <td>0</td>\n",
       "      <td>2.521494</td>\n",
       "      <td>2.430825</td>\n",
       "    </tr>\n",
       "    <tr>\n",
       "      <th>...</th>\n",
       "      <td>...</td>\n",
       "      <td>...</td>\n",
       "      <td>...</td>\n",
       "      <td>...</td>\n",
       "    </tr>\n",
       "    <tr>\n",
       "      <th>19995</th>\n",
       "      <td>8.332031</td>\n",
       "      <td>0</td>\n",
       "      <td>2.519194</td>\n",
       "      <td>2.430496</td>\n",
       "    </tr>\n",
       "    <tr>\n",
       "      <th>19996</th>\n",
       "      <td>8.332031</td>\n",
       "      <td>0</td>\n",
       "      <td>2.519687</td>\n",
       "      <td>2.429346</td>\n",
       "    </tr>\n",
       "    <tr>\n",
       "      <th>19997</th>\n",
       "      <td>8.332031</td>\n",
       "      <td>0</td>\n",
       "      <td>2.520016</td>\n",
       "      <td>2.429675</td>\n",
       "    </tr>\n",
       "    <tr>\n",
       "      <th>19998</th>\n",
       "      <td>8.332031</td>\n",
       "      <td>0</td>\n",
       "      <td>2.520344</td>\n",
       "      <td>2.430003</td>\n",
       "    </tr>\n",
       "    <tr>\n",
       "      <th>19999</th>\n",
       "      <td>8.332031</td>\n",
       "      <td>0</td>\n",
       "      <td>2.519851</td>\n",
       "      <td>2.431317</td>\n",
       "    </tr>\n",
       "  </tbody>\n",
       "</table>\n",
       "<p>6007 rows × 4 columns</p>\n",
       "</div>"
      ],
      "text/plain": [
       "       speedSet  load_value   sensor1   sensor2\n",
       "13993  8.332031           0  2.521165  2.430496\n",
       "13994  8.332031           0  2.520508  2.430989\n",
       "13995  8.332031           0  2.521165  2.431646\n",
       "13996  8.332031           0  2.521987  2.430168\n",
       "13997  8.332031           0  2.521494  2.430825\n",
       "...         ...         ...       ...       ...\n",
       "19995  8.332031           0  2.519194  2.430496\n",
       "19996  8.332031           0  2.519687  2.429346\n",
       "19997  8.332031           0  2.520016  2.429675\n",
       "19998  8.332031           0  2.520344  2.430003\n",
       "19999  8.332031           0  2.519851  2.431317\n",
       "\n",
       "[6007 rows x 4 columns]"
      ]
     },
     "execution_count": 47,
     "metadata": {},
     "output_type": "execute_result"
    }
   ],
   "source": [
    "test_set"
   ]
  },
  {
   "cell_type": "code",
   "execution_count": 48,
   "metadata": {
    "id": "bgr1NJjNw-iW"
   },
   "outputs": [],
   "source": [
    "# 7개 데이터가 입력으로 들어가고 batch size는 임의로 지정\n",
    "#seq_length = 10\n",
    "#batch = 100\n",
    "#train_size = int(len(df)*0.7)\n",
    "#train_set = df[0:train_size]\n",
    "#test_set = df[train_size-seq_length:]\n",
    "#test_date_time=date_time[train_size-seq_length:]"
   ]
  },
  {
   "cell_type": "code",
   "execution_count": 50,
   "metadata": {
    "colab": {
     "base_uri": "https://localhost:8080/",
     "height": 1000
    },
    "executionInfo": {
     "elapsed": 2812,
     "status": "ok",
     "timestamp": 1698826320368,
     "user": {
      "displayName": "이승문",
      "userId": "17091695928167721952"
     },
     "user_tz": -540
    },
    "id": "pCVsxPMYxOD1",
    "outputId": "3531682c-fc28-4e52-c53e-466d05c59720"
   },
   "outputs": [
    {
     "data": {
      "image/png": "[encoded data removed]",
      "text/plain": [
       "<Figure size 432x288 with 4 Axes>"
      ]
     },
     "metadata": {
      "needs_background": "light"
     },
     "output_type": "display_data"
    },
    {
     "data": {
      "image/png": "[encoded data removed]",
      "text/plain": [
       "<Figure size 432x288 with 4 Axes>"
      ]
     },
     "metadata": {
      "needs_background": "light"
     },
     "output_type": "display_data"
    }
   ],
   "source": [
    "plot_cols = ['speedSet', 'load_value','sensor1','sensor2']\n",
    "plot_features = train_set[plot_cols]\n",
    "_ = plot_features.plot(subplots=True)\n",
    "\n",
    "plot_features = test_set[plot_cols]\n",
    "_ = plot_features.plot(subplots=True)"
   ]
  },
  {
   "cell_type": "markdown",
   "metadata": {
    "id": "PxZhPmYMYocm"
   },
   "source": [
    "데이터 스케일링"
   ]
  },
  {
   "cell_type": "code",
   "execution_count": 51,
   "metadata": {
    "colab": {
     "base_uri": "https://localhost:8080/"
    },
    "executionInfo": {
     "elapsed": 8,
     "status": "ok",
     "timestamp": 1698826320368,
     "user": {
      "displayName": "이승문",
      "userId": "17091695928167721952"
     },
     "user_tz": -540
    },
    "id": "wSo6w0_dxplX",
    "outputId": "652d2f3a-e310-4c38-ec54-5ee5b20d4569"
   },
   "outputs": [],
   "source": [
    "# Input scale\n",
    "train_set = train_set.copy()\n",
    "test_set = test_set.copy()\n",
    "\n",
    "scaler_x = MinMaxScaler()\n",
    "scaler_x.fit(train_set.iloc[:, :-1])\n",
    "\n",
    "train_set.iloc[:, :-1] = scaler_x.transform(train_set.iloc[:, :-1])\n",
    "test_set.iloc[:, :-1] = scaler_x.transform(test_set.iloc[:, :-1])\n",
    "\n",
    "# Output scale\n",
    "scaler_y = MinMaxScaler()\n",
    "scaler_y.fit(train_set.iloc[:, [-1]])\n",
    "\n",
    "\n",
    "train_set.iloc[:, -1] = scaler_y.transform(train_set.iloc[:, [-1]])\n",
    "test_set.iloc[:, -1] = scaler_y.transform(test_set.iloc[:, [-1]])"
   ]
  },
  {
   "cell_type": "code",
   "execution_count": 52,
   "metadata": {
    "colab": {
     "base_uri": "https://localhost:8080/"
    },
    "executionInfo": {
     "elapsed": 7,
     "status": "ok",
     "timestamp": 1698826320368,
     "user": {
      "displayName": "이승문",
      "userId": "17091695928167721952"
     },
     "user_tz": -540
    },
    "id": "DRsbDcD-gc2t",
    "outputId": "dcb372b4-4dad-4d9c-e01b-853c14e6c1e4"
   },
   "outputs": [
    {
     "name": "stdout",
     "output_type": "stream",
     "text": [
      "       speedSet  load_value   sensor1   sensor2\n",
      "13993       0.0         0.0  0.492754  0.500000\n",
      "13994       0.0         0.0  0.434783  0.555556\n",
      "13995       0.0         0.0  0.492754  0.629630\n",
      "13996       0.0         0.0  0.565217  0.462963\n",
      "13997       0.0         0.0  0.521739  0.537037\n"
     ]
    }
   ],
   "source": [
    "print(test_set[0:5])"
   ]
  },
  {
   "cell_type": "code",
   "execution_count": 53,
   "metadata": {
    "colab": {
     "base_uri": "https://localhost:8080/",
     "height": 206
    },
    "executionInfo": {
     "elapsed": 5,
     "status": "ok",
     "timestamp": 1698826320368,
     "user": {
      "displayName": "이승문",
      "userId": "17091695928167721952"
     },
     "user_tz": -540
    },
    "id": "G0IFO2QWIuBJ",
    "outputId": "d98be652-f083-413c-fa0e-6b4e4ace9f6d"
   },
   "outputs": [
    {
     "data": {
      "text/html": [
       "<div>\n",
       "<style scoped>\n",
       "    .dataframe tbody tr th:only-of-type {\n",
       "        vertical-align: middle;\n",
       "    }\n",
       "\n",
       "    .dataframe tbody tr th {\n",
       "        vertical-align: top;\n",
       "    }\n",
       "\n",
       "    .dataframe thead th {\n",
       "        text-align: right;\n",
       "    }\n",
       "</style>\n",
       "<table border=\"1\" class=\"dataframe\">\n",
       "  <thead>\n",
       "    <tr style=\"text-align: right;\">\n",
       "      <th></th>\n",
       "      <th>speedSet</th>\n",
       "      <th>load_value</th>\n",
       "      <th>sensor1</th>\n",
       "      <th>sensor2</th>\n",
       "    </tr>\n",
       "  </thead>\n",
       "  <tbody>\n",
       "    <tr>\n",
       "      <th>0</th>\n",
       "      <td>0.0</td>\n",
       "      <td>0.0</td>\n",
       "      <td>0.695652</td>\n",
       "      <td>0.462963</td>\n",
       "    </tr>\n",
       "    <tr>\n",
       "      <th>1</th>\n",
       "      <td>0.0</td>\n",
       "      <td>0.0</td>\n",
       "      <td>0.521739</td>\n",
       "      <td>0.444444</td>\n",
       "    </tr>\n",
       "    <tr>\n",
       "      <th>2</th>\n",
       "      <td>0.0</td>\n",
       "      <td>0.0</td>\n",
       "      <td>0.608696</td>\n",
       "      <td>0.407407</td>\n",
       "    </tr>\n",
       "    <tr>\n",
       "      <th>3</th>\n",
       "      <td>0.0</td>\n",
       "      <td>0.0</td>\n",
       "      <td>0.507246</td>\n",
       "      <td>0.648148</td>\n",
       "    </tr>\n",
       "    <tr>\n",
       "      <th>4</th>\n",
       "      <td>0.0</td>\n",
       "      <td>0.0</td>\n",
       "      <td>0.608696</td>\n",
       "      <td>0.592593</td>\n",
       "    </tr>\n",
       "  </tbody>\n",
       "</table>\n",
       "</div>"
      ],
      "text/plain": [
       "   speedSet  load_value   sensor1   sensor2\n",
       "0       0.0         0.0  0.695652  0.462963\n",
       "1       0.0         0.0  0.521739  0.444444\n",
       "2       0.0         0.0  0.608696  0.407407\n",
       "3       0.0         0.0  0.507246  0.648148\n",
       "4       0.0         0.0  0.608696  0.592593"
      ]
     },
     "execution_count": 53,
     "metadata": {},
     "output_type": "execute_result"
    }
   ],
   "source": [
    "train_set.head()"
   ]
  },
  {
   "cell_type": "markdown",
   "metadata": {
    "id": "0jXU2ZR6YzVX"
   },
   "source": [
    "데이터셋 생성"
   ]
  },
  {
   "cell_type": "code",
   "execution_count": 54,
   "metadata": {
    "id": "6n9byJGDzb_f"
   },
   "outputs": [],
   "source": [
    "device = torch.device('cuda')\n",
    "# 데이터셋 생성 함수\n",
    "def build_dataset(time_series, seq_length):\n",
    "    dataX = []\n",
    "    dataY = []\n",
    "    for i in range(0, len(time_series)-seq_length):\n",
    "        _x = time_series[i:i+seq_length, :]\n",
    "        _y = time_series[i+seq_length, [-1]]\n",
    "        # print(_x, \"-->\",_y)\n",
    "        dataX.append(_x)\n",
    "        dataY.append(_y)\n",
    "\n",
    "    return np.array(dataX), np.array(dataY)\n",
    "\n",
    "trainX, trainY = build_dataset(np.array(train_set), seq_length)\n",
    "testX, testY = build_dataset(np.array(test_set), seq_length)\n",
    "\n",
    "\n",
    "# 텐서로 변환\n",
    "trainX_tensor = torch.FloatTensor(trainX)\n",
    "trainY_tensor = torch.FloatTensor(trainY)\n",
    "\n",
    "testX_tensor = torch.FloatTensor(testX)\n",
    "testY_tensor = torch.FloatTensor(testY)\n",
    "\n",
    "testX_tensor = testX_tensor.to(device)\n",
    "testY_tensor = testY_tensor.to(device)\n",
    "# 텐서 형태로 데이터 정의\n",
    "dataset = TensorDataset(trainX_tensor, trainY_tensor)\n",
    "# 데이터로더는 기본적으로 2개의 인자를 입력받으며 배치크기는 통상적으로 2의 배수를 사용\n",
    "dataloader = DataLoader(dataset,\n",
    "                        batch_size=batch,\n",
    "                        shuffle=True,\n",
    "                        drop_last=True)"
   ]
  },
  {
   "cell_type": "code",
   "execution_count": 55,
   "metadata": {
    "colab": {
     "base_uri": "https://localhost:8080/"
    },
    "executionInfo": {
     "elapsed": 4,
     "status": "ok",
     "timestamp": 1698826320368,
     "user": {
      "displayName": "이승문",
      "userId": "17091695928167721952"
     },
     "user_tz": -540
    },
    "id": "LrCPrwPPO9rp",
    "outputId": "5af9dc2e-c835-44c4-f2ea-12c04be4fd55"
   },
   "outputs": [
    {
     "data": {
      "text/plain": [
       "torch.Size([13993, 7, 4])"
      ]
     },
     "execution_count": 55,
     "metadata": {},
     "output_type": "execute_result"
    }
   ],
   "source": [
    "trainX_tensor.shape"
   ]
  },
  {
   "cell_type": "code",
   "execution_count": 56,
   "metadata": {
    "colab": {
     "base_uri": "https://localhost:8080/"
    },
    "executionInfo": {
     "elapsed": 668,
     "status": "ok",
     "timestamp": 1698826321033,
     "user": {
      "displayName": "이승문",
      "userId": "17091695928167721952"
     },
     "user_tz": -540
    },
    "id": "uH8rAk5mZC7B",
    "outputId": "b4135602-5a3c-4484-9c65-f6a12142efdd"
   },
   "outputs": [
    {
     "data": {
      "text/plain": [
       "[tensor([[[0.0000, 0.0000, 0.4348, 0.5185],\n",
       "          [0.0000, 0.0000, 0.4348, 0.5000],\n",
       "          [0.0000, 0.0000, 0.4203, 0.4630],\n",
       "          ...,\n",
       "          [0.0000, 0.0000, 0.4493, 0.3148],\n",
       "          [0.0000, 0.0000, 0.5507, 0.3889],\n",
       "          [0.0000, 0.0000, 0.5652, 0.5185]],\n",
       " \n",
       "         [[0.0000, 0.0000, 0.6957, 0.4259],\n",
       "          [0.0000, 0.0000, 0.4928, 0.4259],\n",
       "          [0.0000, 0.0000, 0.4928, 0.5370],\n",
       "          ...,\n",
       "          [0.0000, 0.0000, 0.7681, 0.4259],\n",
       "          [0.0000, 0.0000, 0.6522, 0.4444],\n",
       "          [0.0000, 0.0000, 0.4493, 0.5741]],\n",
       " \n",
       "         [[0.0000, 0.0000, 0.6522, 0.6481],\n",
       "          [0.0000, 0.0000, 0.5507, 0.4259],\n",
       "          [0.0000, 0.0000, 0.4348, 0.4630],\n",
       "          ...,\n",
       "          [0.0000, 0.0000, 0.2319, 0.5556],\n",
       "          [0.0000, 0.0000, 0.5362, 0.5741],\n",
       "          [0.0000, 0.0000, 0.6232, 0.6111]],\n",
       " \n",
       "         ...,\n",
       " \n",
       "         [[0.0000, 0.0000, 0.4348, 0.5370],\n",
       "          [0.0000, 0.0000, 0.5072, 0.5370],\n",
       "          [0.0000, 0.0000, 0.4638, 0.4815],\n",
       "          ...,\n",
       "          [0.0000, 0.0000, 0.3913, 0.6667],\n",
       "          [0.0000, 0.0000, 0.6087, 0.5185],\n",
       "          [0.0000, 0.0000, 0.6232, 0.4444]],\n",
       " \n",
       "         [[0.0000, 0.0000, 0.5362, 0.4815],\n",
       "          [0.0000, 0.0000, 0.4638, 0.6111],\n",
       "          [0.0000, 0.0000, 0.5362, 0.7407],\n",
       "          ...,\n",
       "          [0.0000, 0.0000, 0.3913, 0.6667],\n",
       "          [0.0000, 0.0000, 0.5652, 0.5000],\n",
       "          [0.0000, 0.0000, 0.4203, 0.4630]],\n",
       " \n",
       "         [[0.0000, 0.0000, 0.5942, 0.5000],\n",
       "          [0.0000, 0.0000, 0.5072, 0.5370],\n",
       "          [0.0000, 0.0000, 0.5652, 0.4815],\n",
       "          ...,\n",
       "          [0.0000, 0.0000, 0.4638, 0.5556],\n",
       "          [0.0000, 0.0000, 0.4203, 0.5000],\n",
       "          [0.0000, 0.0000, 0.4928, 0.5370]]]),\n",
       " tensor([[0.6296],\n",
       "         [0.7037],\n",
       "         [0.6481],\n",
       "         [0.5370],\n",
       "         [0.5556],\n",
       "         [0.5370],\n",
       "         [0.5000],\n",
       "         [0.2963],\n",
       "         [0.4259],\n",
       "         [0.5000],\n",
       "         [0.4259],\n",
       "         [0.6296],\n",
       "         [0.5185],\n",
       "         [0.3148],\n",
       "         [0.4630],\n",
       "         [0.5741],\n",
       "         [0.4444],\n",
       "         [0.5370],\n",
       "         [0.5185],\n",
       "         [0.4074],\n",
       "         [0.5000],\n",
       "         [0.6111],\n",
       "         [0.7037],\n",
       "         [0.5926],\n",
       "         [0.4444],\n",
       "         [0.5926],\n",
       "         [0.4630],\n",
       "         [0.4815],\n",
       "         [0.5926],\n",
       "         [0.7222],\n",
       "         [0.5556],\n",
       "         [0.4074],\n",
       "         [0.5185],\n",
       "         [0.7037],\n",
       "         [0.7407],\n",
       "         [0.6296],\n",
       "         [0.4815],\n",
       "         [0.5000],\n",
       "         [0.4815],\n",
       "         [0.4630],\n",
       "         [0.4444],\n",
       "         [0.5185],\n",
       "         [0.4074],\n",
       "         [0.5000],\n",
       "         [0.3704],\n",
       "         [0.3148],\n",
       "         [0.6111],\n",
       "         [0.3704],\n",
       "         [0.4074],\n",
       "         [0.6111],\n",
       "         [0.3333],\n",
       "         [0.4815],\n",
       "         [0.5556],\n",
       "         [0.5370],\n",
       "         [0.5000],\n",
       "         [0.6481],\n",
       "         [0.4259],\n",
       "         [0.6667],\n",
       "         [0.4074],\n",
       "         [0.4815],\n",
       "         [0.8704],\n",
       "         [0.3889],\n",
       "         [0.4259],\n",
       "         [0.5000],\n",
       "         [0.7593],\n",
       "         [0.5556],\n",
       "         [0.5370],\n",
       "         [0.5741],\n",
       "         [0.4630],\n",
       "         [0.5741],\n",
       "         [0.4259],\n",
       "         [0.6111],\n",
       "         [0.7407],\n",
       "         [0.5741],\n",
       "         [0.5926],\n",
       "         [0.3889],\n",
       "         [0.5926],\n",
       "         [0.5370],\n",
       "         [0.5926],\n",
       "         [0.4259],\n",
       "         [0.4259],\n",
       "         [0.4444],\n",
       "         [0.3704],\n",
       "         [0.4815],\n",
       "         [0.5556],\n",
       "         [0.5926],\n",
       "         [0.4815],\n",
       "         [0.6296],\n",
       "         [0.3889],\n",
       "         [0.5370],\n",
       "         [0.5741],\n",
       "         [0.4815],\n",
       "         [0.6111],\n",
       "         [0.6852],\n",
       "         [0.5741],\n",
       "         [0.5926],\n",
       "         [0.2037],\n",
       "         [0.5000],\n",
       "         [0.5185],\n",
       "         [0.5185]])]"
      ]
     },
     "execution_count": 56,
     "metadata": {},
     "output_type": "execute_result"
    }
   ],
   "source": [
    "next(iter(dataloader))"
   ]
  },
  {
   "cell_type": "code",
   "execution_count": 57,
   "metadata": {
    "colab": {
     "base_uri": "https://localhost:8080/"
    },
    "executionInfo": {
     "elapsed": 6,
     "status": "ok",
     "timestamp": 1698826321033,
     "user": {
      "displayName": "이승문",
      "userId": "17091695928167721952"
     },
     "user_tz": -540
    },
    "id": "Jo8a4D4VP1gz",
    "outputId": "9d1415a7-6363-4d9e-8cc3-432c0d47a75c"
   },
   "outputs": [
    {
     "name": "stdout",
     "output_type": "stream",
     "text": [
      "tensor([[[0.0000, 0.0000, 0.4928, 0.5000],\n",
      "         [0.0000, 0.0000, 0.4348, 0.5556],\n",
      "         [0.0000, 0.0000, 0.4928, 0.6296],\n",
      "         [0.0000, 0.0000, 0.5652, 0.4630],\n",
      "         [0.0000, 0.0000, 0.5217, 0.5370],\n",
      "         [0.0000, 0.0000, 0.4928, 0.5370],\n",
      "         [0.0000, 0.0000, 0.5072, 0.6111]],\n",
      "\n",
      "        [[0.0000, 0.0000, 0.4348, 0.5556],\n",
      "         [0.0000, 0.0000, 0.4928, 0.6296],\n",
      "         [0.0000, 0.0000, 0.5652, 0.4630],\n",
      "         [0.0000, 0.0000, 0.5217, 0.5370],\n",
      "         [0.0000, 0.0000, 0.4928, 0.5370],\n",
      "         [0.0000, 0.0000, 0.5072, 0.6111],\n",
      "         [0.0000, 0.0000, 0.6377, 0.6296]]], device='cuda:0')\n"
     ]
    }
   ],
   "source": [
    "print(testX_tensor[0:2])"
   ]
  },
  {
   "cell_type": "markdown",
   "metadata": {
    "id": "poBPftDcKUow"
   },
   "source": [
    "LSTM"
   ]
  },
  {
   "cell_type": "code",
   "execution_count": 58,
   "metadata": {
    "id": "lOYYggiqJrAo"
   },
   "outputs": [],
   "source": [
    "import torch.nn as nn\n",
    "\n",
    "# 설정값\n",
    "#data_dim = 4\n",
    "#hidden_dim = 15\n",
    "#output_dim = 1\n",
    "#learning_rate = 0.01\n",
    "#nb_epochs = 100\n",
    "\n",
    "class Net(nn.Module):\n",
    "    # # 기본변수, layer를 초기화해주는 생성자\n",
    "    def __init__(self, input_dim, hidden_dim, seq_len, output_dim, layers):\n",
    "        super(Net, self).__init__()\n",
    "        self.hidden_dim = hidden_dim\n",
    "        self.seq_len = seq_len\n",
    "        self.output_dim = output_dim\n",
    "        self.layers = layers\n",
    "\n",
    "        self.lstm = nn.LSTM(input_dim, hidden_dim, num_layers=layers,\n",
    "                            #dropout = 0.1,\n",
    "                            batch_first=True)\n",
    "        self.fc = nn.Linear(hidden_dim, output_dim, bias = True)\n",
    "\n",
    "    # 학습 초기화를 위한 함수\n",
    "    def reset_hidden_state(self):\n",
    "        self.hidden = (\n",
    "                torch.zeros(self.layers, self.seq_len, self.hidden_dim),\n",
    "                torch.zeros(self.layers, self.seq_len, self.hidden_dim))\n",
    "\n",
    "    # 예측을 위한 함수\n",
    "    def forward(self, x):\n",
    "        x, _status = self.lstm(x)\n",
    "        x = self.fc(x[:, -1])\n",
    "        return x"
   ]
  },
  {
   "cell_type": "markdown",
   "metadata": {
    "id": "jtauKzyEKVg_"
   },
   "source": [
    "Training"
   ]
  },
  {
   "cell_type": "code",
   "execution_count": 59,
   "metadata": {
    "id": "9x-DpuHqKXNe"
   },
   "outputs": [],
   "source": [
    "def train_model(model, train_df, num_epochs = None, lr = None, verbose = 10, patience = 10):\n",
    "\n",
    "    criterion = nn.MSELoss().to(device)\n",
    "    optimizer = torch.optim.Adam(model.parameters(), lr = learning_rate)\n",
    "    nb_epochs = num_epochs\n",
    "\n",
    "    # epoch마다 loss 저장\n",
    "    train_hist = np.zeros(nb_epochs)\n",
    "\n",
    "    for epoch in range(nb_epochs):\n",
    "        avg_cost = 0\n",
    "        total_batch = len(train_df)\n",
    "\n",
    "        for batch_idx, samples in enumerate(train_df):\n",
    "\n",
    "            x_train, y_train = samples\n",
    "\n",
    "            # seq별 hidden state reset\n",
    "            model.reset_hidden_state()\n",
    "\n",
    "            # H(x) 계산\n",
    "            outputs = model(x_train)\n",
    "\n",
    "            # cost 계산\n",
    "            loss = criterion(outputs, y_train)\n",
    "\n",
    "            # cost로 H(x) 개선\n",
    "            optimizer.zero_grad()\n",
    "            loss.backward()\n",
    "            optimizer.step()\n",
    "\n",
    "            avg_cost += loss/total_batch\n",
    "\n",
    "        train_hist[epoch] = avg_cost\n",
    "\n",
    "        if epoch % verbose == 0:\n",
    "            print('Epoch:', '%04d' % (epoch), 'train loss :', '{:.4f}'.format(avg_cost))\n",
    "\n",
    "        # patience번째 마다 early stopping 여부 확인\n",
    "        if (epoch % patience == 0) & (epoch != 0):\n",
    "\n",
    "            # loss가 커졌다면 early stop\n",
    "            if train_hist[epoch-patience] < train_hist[epoch]:\n",
    "                print('\\n Early Stopping : %04d epoch' %(epoch))\n",
    "\n",
    "                break\n",
    "\n",
    "    return model.eval(), train_hist"
   ]
  },
  {
   "cell_type": "markdown",
   "metadata": {
    "id": "Qgaeq0Nx7gep"
   },
   "source": [
    "학습 시작"
   ]
  },
  {
   "cell_type": "code",
   "execution_count": 86,
   "metadata": {
    "id": "2T1JQHZlKd1t"
   },
   "outputs": [
    {
     "name": "stdout",
     "output_type": "stream",
     "text": [
      "Epoch: 0000 train loss : 0.0196\n",
      "Epoch: 0001 train loss : 0.0136\n",
      "Epoch: 0002 train loss : 0.0132\n",
      "Epoch: 0003 train loss : 0.0122\n",
      "Epoch: 0004 train loss : 0.0108\n",
      "Epoch: 0005 train loss : 0.0108\n",
      "Epoch: 0006 train loss : 0.0110\n",
      "Epoch: 0007 train loss : 0.0107\n",
      "Epoch: 0008 train loss : 0.0108\n",
      "Epoch: 0009 train loss : 0.0107\n",
      "Epoch: 0010 train loss : 0.0107\n",
      "Epoch: 0011 train loss : 0.0108\n",
      "Epoch: 0012 train loss : 0.0106\n",
      "Epoch: 0013 train loss : 0.0107\n",
      "Epoch: 0014 train loss : 0.0107\n",
      "Epoch: 0015 train loss : 0.0107\n",
      "Epoch: 0016 train loss : 0.0107\n",
      "Epoch: 0017 train loss : 0.0108\n",
      "Epoch: 0018 train loss : 0.0107\n",
      "Epoch: 0019 train loss : 0.0107\n",
      "Epoch: 0020 train loss : 0.0107\n",
      "Epoch: 0021 train loss : 0.0107\n",
      "Epoch: 0022 train loss : 0.0107\n",
      "Epoch: 0023 train loss : 0.0106\n",
      "Epoch: 0024 train loss : 0.0106\n",
      "Epoch: 0025 train loss : 0.0106\n",
      "Epoch: 0026 train loss : 0.0107\n",
      "Epoch: 0027 train loss : 0.0106\n",
      "Epoch: 0028 train loss : 0.0106\n",
      "Epoch: 0029 train loss : 0.0106\n",
      "Epoch: 0030 train loss : 0.0106\n",
      "Epoch: 0031 train loss : 0.0106\n",
      "Epoch: 0032 train loss : 0.0106\n",
      "Epoch: 0033 train loss : 0.0106\n",
      "Epoch: 0034 train loss : 0.0106\n",
      "Epoch: 0035 train loss : 0.0107\n",
      "Epoch: 0036 train loss : 0.0105\n",
      "Epoch: 0037 train loss : 0.0105\n",
      "Epoch: 0038 train loss : 0.0106\n",
      "Epoch: 0039 train loss : 0.0105\n",
      "Epoch: 0040 train loss : 0.0106\n",
      "Epoch: 0041 train loss : 0.0106\n",
      "Epoch: 0042 train loss : 0.0106\n",
      "Epoch: 0043 train loss : 0.0105\n",
      "Epoch: 0044 train loss : 0.0106\n",
      "Epoch: 0045 train loss : 0.0106\n",
      "Epoch: 0046 train loss : 0.0105\n",
      "Epoch: 0047 train loss : 0.0105\n",
      "Epoch: 0048 train loss : 0.0105\n",
      "Epoch: 0049 train loss : 0.0105\n",
      "Epoch: 0050 train loss : 0.0105\n",
      "Epoch: 0051 train loss : 0.0105\n",
      "Epoch: 0052 train loss : 0.0105\n",
      "Epoch: 0053 train loss : 0.0105\n",
      "Epoch: 0054 train loss : 0.0106\n",
      "Epoch: 0055 train loss : 0.0105\n",
      "Epoch: 0056 train loss : 0.0105\n",
      "Epoch: 0057 train loss : 0.0105\n",
      "Epoch: 0058 train loss : 0.0104\n",
      "Epoch: 0059 train loss : 0.0105\n",
      "Epoch: 0060 train loss : 0.0104\n",
      "Epoch: 0061 train loss : 0.0105\n",
      "Epoch: 0062 train loss : 0.0105\n",
      "Epoch: 0063 train loss : 0.0104\n",
      "Epoch: 0064 train loss : 0.0104\n",
      "Epoch: 0065 train loss : 0.0104\n",
      "Epoch: 0066 train loss : 0.0104\n",
      "Epoch: 0067 train loss : 0.0105\n",
      "Epoch: 0068 train loss : 0.0104\n",
      "Epoch: 0069 train loss : 0.0104\n",
      "Epoch: 0070 train loss : 0.0104\n",
      "Epoch: 0071 train loss : 0.0104\n",
      "Epoch: 0072 train loss : 0.0104\n",
      "Epoch: 0073 train loss : 0.0105\n",
      "Epoch: 0074 train loss : 0.0104\n",
      "Epoch: 0075 train loss : 0.0103\n",
      "Epoch: 0076 train loss : 0.0104\n",
      "Epoch: 0077 train loss : 0.0104\n",
      "Epoch: 0078 train loss : 0.0104\n",
      "Epoch: 0079 train loss : 0.0104\n",
      "Epoch: 0080 train loss : 0.0104\n",
      "\n",
      " Early Stopping : 0080 epoch\n"
     ]
    }
   ],
   "source": [
    "# 모델 학습\n",
    "# 설정값\n",
    "data_dim = 4\n",
    "hidden_dim = 256\n",
    "output_dim = 1\n",
    "learning_rate = 0.001\n",
    "n_layer=2\n",
    "nb_epochs = 200\n",
    "net = Net(data_dim, hidden_dim, seq_length, output_dim, n_layer)\n",
    "model, train_hist = train_model(net, dataloader, num_epochs = nb_epochs, lr = learning_rate, verbose = 1, patience = 10)"
   ]
  },
  {
   "cell_type": "code",
   "execution_count": 87,
   "metadata": {
    "colab": {
     "base_uri": "https://localhost:8080/",
     "height": 368
    },
    "executionInfo": {
     "elapsed": 4,
     "status": "ok",
     "timestamp": 1698826321034,
     "user": {
      "displayName": "이승문",
      "userId": "17091695928167721952"
     },
     "user_tz": -540
    },
    "id": "4dbR6CYyKdxT",
    "outputId": "ed6436a3-718f-4c1e-c963-43c4680f0029"
   },
   "outputs": [
    {
     "data": {
      "image/png": "[encoded data removed]",
      "text/plain": [
       "<Figure size 720x288 with 1 Axes>"
      ]
     },
     "metadata": {
      "needs_background": "light"
     },
     "output_type": "display_data"
    }
   ],
   "source": [
    "# \n",
    "fig = plt.figure(figsize=(10, 4))\n",
    "plt.plot(train_hist, label=\"Training loss\")\n",
    "plt.legend()\n",
    "plt.show()"
   ]
  },
  {
   "cell_type": "code",
   "execution_count": 110,
   "metadata": {
    "colab": {
     "base_uri": "https://localhost:8080/"
    },
    "executionInfo": {
     "elapsed": 669,
     "status": "ok",
     "timestamp": 1698826321699,
     "user": {
      "displayName": "이승문",
      "userId": "17091695928167721952"
     },
     "user_tz": -540
    },
    "id": "qiTRzvYwLDbT",
    "outputId": "2c3b7a9a-4f08-4126-f72a-fa657ce8ddc7"
   },
   "outputs": [
    {
     "data": {
      "text/plain": [
       "Net(\n",
       "  (lstm): LSTM(4, 256, num_layers=2, batch_first=True)\n",
       "  (fc): Linear(in_features=256, out_features=1, bias=True)\n",
       ")"
      ]
     },
     "execution_count": 110,
     "metadata": {},
     "output_type": "execute_result"
    }
   ],
   "source": [
    "# 모델 저장\n",
    "PATH =\"model/model0.pth\"\n",
    "#torch.save(model.state_dict(), PATH)\n",
    "\n",
    "# 불러오기\n",
    "model = Net(data_dim, hidden_dim, seq_length, output_dim, n_layer)\n",
    "model.load_state_dict(torch.load(PATH), strict=False)\n",
    "model.eval()\n",
    "model.to(device)"
   ]
  },
  {
   "cell_type": "markdown",
   "metadata": {
    "id": "VmtB70MZdvCN"
   },
   "source": [
    "모델 테스트"
   ]
  },
  {
   "cell_type": "code",
   "execution_count": 111,
   "metadata": {
    "colab": {
     "base_uri": "https://localhost:8080/"
    },
    "executionInfo": {
     "elapsed": 5,
     "status": "ok",
     "timestamp": 1698826321699,
     "user": {
      "displayName": "이승문",
      "userId": "17091695928167721952"
     },
     "user_tz": -540
    },
    "id": "8nS3qJzVefET",
    "outputId": "48e2b71c-1791-43ff-deb2-c239f42adbb5"
   },
   "outputs": [
    {
     "name": "stdout",
     "output_type": "stream",
     "text": [
      "tensor([[[0.0000, 0.0000, 0.4928, 0.5000],\n",
      "         [0.0000, 0.0000, 0.4348, 0.5556],\n",
      "         [0.0000, 0.0000, 0.4928, 0.6296],\n",
      "         [0.0000, 0.0000, 0.5652, 0.4630],\n",
      "         [0.0000, 0.0000, 0.5217, 0.5370],\n",
      "         [0.0000, 0.0000, 0.4928, 0.5370],\n",
      "         [0.0000, 0.0000, 0.5072, 0.6111]],\n",
      "\n",
      "        [[0.0000, 0.0000, 0.4348, 0.5556],\n",
      "         [0.0000, 0.0000, 0.4928, 0.6296],\n",
      "         [0.0000, 0.0000, 0.5652, 0.4630],\n",
      "         [0.0000, 0.0000, 0.5217, 0.5370],\n",
      "         [0.0000, 0.0000, 0.4928, 0.5370],\n",
      "         [0.0000, 0.0000, 0.5072, 0.6111],\n",
      "         [0.0000, 0.0000, 0.6377, 0.6296]]], device='cuda:0')\n",
      "tensor([[0.6296],\n",
      "        [0.4074]], device='cuda:0')\n"
     ]
    }
   ],
   "source": [
    "print(testX_tensor[0:2])\n",
    "print(testY_tensor[0:2])"
   ]
  },
  {
   "cell_type": "code",
   "execution_count": 114,
   "metadata": {
    "id": "VCt6_LVISaYI"
   },
   "outputs": [],
   "source": [
    "# 예측테스트\n",
    "a=1\n",
    "\n",
    "\n",
    "testX_tensor_100=testX_tensor[a*100:a*100+100]\n",
    "testY_tensor_100=testY_tensor[a*100:a*100+100]\n",
    "testX_tensor_100 = testX_tensor_100.to(device)\n",
    "testY_tensor_100 = testY_tensor_100.to(device)\n",
    "\n",
    "with torch.no_grad():\n",
    "    pred = []\n",
    "    for pr in range(len(testX_tensor_100)):\n",
    "\n",
    "        model.reset_hidden_state()\n",
    "\n",
    "        predicted = model(torch.unsqueeze(testX_tensor_100[pr], 0))\n",
    "        predicted = torch.flatten(predicted).item()\n",
    "        pred.append(predicted)\n",
    "\n",
    "    # INVERSE\n",
    "    # pred_inverse = scaler_y.inverse_transform(np.array(pred).reshape(-1, 1))\n",
    "    # testY_inverse = scaler_y.inverse_transform(testY_tensor_100)\n",
    "    pred_np = np.array(pred).reshape(-1, 1)\n",
    "    pred_inverse = scaler_y.inverse_transform(pred_np)\n",
    "\n",
    "    # GPU에서 CPU로 이동\n",
    "    testY_np = testY_tensor_100.cpu().numpy()\n",
    "    testY_inverse = scaler_y.inverse_transform(testY_np)\n"
   ]
  },
  {
   "cell_type": "code",
   "execution_count": 115,
   "metadata": {},
   "outputs": [
    {
     "data": {
      "image/png": "[encoded data removed]",
      "text/plain": [
       "<Figure size 1080x216 with 1 Axes>"
      ]
     },
     "metadata": {
      "needs_background": "light"
     },
     "output_type": "display_data"
    }
   ],
   "source": [
    "fig = plt.figure(figsize=(15,3))\n",
    "plt.plot(np.arange(len(pred_inverse)), pred_inverse, label = 'pred')\n",
    "plt.plot(np.arange(len(testY_inverse)), testY_inverse, label = 'true')\n",
    "plt.title(\"Test plot\")\n",
    "plt.legend()\n",
    "plt.show()"
   ]
  },
  {
   "cell_type": "code",
   "execution_count": null,
   "metadata": {},
   "outputs": [],
   "source": []
  }
 ],
 "metadata": {
  "accelerator": "GPU",
  "colab": {
   "authorship_tag": "ABX9TyOAACDfuFW0hpsAaPjl6qnf",
   "gpuType": "T4",
   "provenance": []
  },
  "kernelspec": {
   "display_name": "Python 3 (ipykernel)",
   "language": "python",
   "name": "python3"
  },
  "language_info": {
   "codemirror_mode": {
    "name": "ipython",
    "version": 3
   },
   "file_extension": ".py",
   "mimetype": "text/x-python",
   "name": "python",
   "nbconvert_exporter": "python",
   "pygments_lexer": "ipython3",
   "version": "3.9.12"
  }
 },
 "nbformat": 4,
 "nbformat_minor": 4
}
