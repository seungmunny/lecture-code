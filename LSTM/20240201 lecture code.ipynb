{
 "cells": [
  {
   "cell_type": "markdown",
   "metadata": {
    "id": "ZtHeYlbySyHf"
   },
   "source": [
    "Import libraries"
   ]
  },
  {
   "cell_type": "code",
   "execution_count": null,
   "metadata": {
    "id": "RJr4lsl59zqH"
   },
   "outputs": [],
   "source": [
    "import os\n",
    "import datetime\n",
    "\n",
    "import IPython\n",
    "import IPython.display\n",
    "import matplotlib as mpl\n",
    "import matplotlib.pyplot as plt\n",
    "import numpy as np\n",
    "import pandas as pd\n",
    "import seaborn as sns\n",
    "import tensorflow as tf\n",
    "from sklearn.preprocessing import MinMaxScaler\n",
    "import torch\n",
    "from torch.utils.data import TensorDataset # 텐서데이터셋\n",
    "from torch.utils.data import DataLoader # 데이터로더\n",
    "\n",
    "mpl.rcParams['figure.figsize'] = (8, 6)\n",
    "mpl.rcParams['axes.grid'] = False"
   ]
  },
  {
   "cell_type": "markdown",
   "metadata": {
    "id": "diwc2PkQS7gY"
   },
   "source": [
    "데이터 로드"
   ]
  },
  {
   "cell_type": "code",
   "execution_count": null,
   "metadata": {
    "colab": {
     "base_uri": "https://localhost:8080/"
    },
    "executionInfo": {
     "elapsed": 1450,
     "status": "ok",
     "timestamp": 1698826313669,
     "user": {
      "displayName": "이승문",
      "userId": "17091695928167721952"
     },
     "user_tz": -540
    },
    "id": "Wg9sbgju9jCk",
    "outputId": "c5865593-c8f2-4b61-e748-7cdcdfbb2b9f"
   },
   "outputs": [],
   "source": [
    "df=pd.read_csv(#####빈칸을 채우세요######)\n",
    "df"
   ]
  },
  {
   "cell_type": "markdown",
   "metadata": {
    "id": "9Xuhf1m7TDLc"
   },
   "source": [
    "데이터 전처리"
   ]
  },
  {
   "cell_type": "code",
   "execution_count": null,
   "metadata": {
    "id": "tOgh8XwOXYV1"
   },
   "outputs": [],
   "source": [
    "date_time = pd.to_datetime(df.pop('time_x'), format='%Y-%m-%d %H:%M:%S.%f')\n",
    "df=df.drop(['gear_fault_desc'], axis=1)\n",
    "df = df[[#####빈칸을 채우세요######]]"
   ]
  },
  {
   "cell_type": "code",
   "execution_count": null,
   "metadata": {
    "colab": {
     "base_uri": "https://localhost:8080/",
     "height": 206
    },
    "executionInfo": {
     "elapsed": 8,
     "status": "ok",
     "timestamp": 1698826314911,
     "user": {
      "displayName": "이승문",
      "userId": "17091695928167721952"
     },
     "user_tz": -540
    },
    "id": "fX7x94TTVqwA",
    "outputId": "310c15a0-a43e-40f5-aa64-5fb9632ee0ac"
   },
   "outputs": [],
   "source": [
    "df.head()"
   ]
  },
  {
   "cell_type": "code",
   "execution_count": null,
   "metadata": {
    "colab": {
     "base_uri": "https://localhost:8080/",
     "height": 300
    },
    "executionInfo": {
     "elapsed": 7,
     "status": "ok",
     "timestamp": 1698826314911,
     "user": {
      "displayName": "이승문",
      "userId": "17091695928167721952"
     },
     "user_tz": -540
    },
    "id": "s1jlq4ZFre5a",
    "outputId": "8d26f795-0aef-4407-d047-71d33bb60fe1"
   },
   "outputs": [],
   "source": [
    "df.describe()"
   ]
  },
  {
   "cell_type": "markdown",
   "metadata": {
    "id": "aA7PGfyyu2_w"
   },
   "source": [
    "Train, test 데이터 분할"
   ]
  },
  {
   "cell_type": "code",
   "execution_count": null,
   "metadata": {},
   "outputs": [],
   "source": [
    "#데이터 확인\n",
    "plot_cols = ['speedSet', 'load_value','sensor1', 'sensor2']\n",
    "plot_features = df[plot_cols]\n",
    "_ = plot_features.plot(subplots=True)"
   ]
  },
  {
   "cell_type": "code",
   "execution_count": null,
   "metadata": {},
   "outputs": [],
   "source": [
    "#train/test data 분할\n",
    "# 7개 데이터가 입력으로 들어가고 batch size는 임의로 지정\n",
    "seq_length = 7\n",
    "batch = 100\n",
    "\n",
    "data=0\n",
    "train_set = #####빈칸을 채우세요######\n",
    "test_set = #####빈칸을 채우세요######\n"
   ]
  },
  {
   "cell_type": "code",
   "execution_count": null,
   "metadata": {},
   "outputs": [],
   "source": [
    "train_set"
   ]
  },
  {
   "cell_type": "code",
   "execution_count": null,
   "metadata": {},
   "outputs": [],
   "source": [
    "test_set"
   ]
  },
  {
   "cell_type": "code",
   "execution_count": null,
   "metadata": {
    "colab": {
     "base_uri": "https://localhost:8080/",
     "height": 1000
    },
    "executionInfo": {
     "elapsed": 2812,
     "status": "ok",
     "timestamp": 1698826320368,
     "user": {
      "displayName": "이승문",
      "userId": "17091695928167721952"
     },
     "user_tz": -540
    },
    "id": "pCVsxPMYxOD1",
    "outputId": "3531682c-fc28-4e52-c53e-466d05c59720"
   },
   "outputs": [],
   "source": [
    "plot_cols = ['speedSet', 'load_value','sensor1','sensor2']\n",
    "plot_features = train_set[plot_cols]\n",
    "_ = plot_features.plot(subplots=True)\n",
    "\n",
    "plot_features = test_set[plot_cols]\n",
    "_ = plot_features.plot(subplots=True)"
   ]
  },
  {
   "cell_type": "markdown",
   "metadata": {
    "id": "PxZhPmYMYocm"
   },
   "source": [
    "데이터 스케일링"
   ]
  },
  {
   "cell_type": "code",
   "execution_count": null,
   "metadata": {
    "colab": {
     "base_uri": "https://localhost:8080/"
    },
    "executionInfo": {
     "elapsed": 8,
     "status": "ok",
     "timestamp": 1698826320368,
     "user": {
      "displayName": "이승문",
      "userId": "17091695928167721952"
     },
     "user_tz": -540
    },
    "id": "wSo6w0_dxplX",
    "outputId": "652d2f3a-e310-4c38-ec54-5ee5b20d4569"
   },
   "outputs": [],
   "source": [
    "# Input scale\n",
    "train_set = train_set.copy()\n",
    "test_set = test_set.copy()\n",
    "\n",
    "scaler_x = MinMaxScaler()\n",
    "scaler_x.fit(train_set.iloc[:, :-1])\n",
    "\n",
    "train_set.iloc[:, :-1] = scaler_x.transform(#####빈칸을 채우세요######)\n",
    "test_set.iloc[:, :-1] = scaler_x.transform(#####빈칸을 채우세요######)\n",
    "\n",
    "# Output scale\n",
    "scaler_y = MinMaxScaler()\n",
    "scaler_y.fit(train_set.iloc[:, [-1]])\n",
    "\n",
    "\n",
    "train_set.iloc[:, -1] = scaler_y.transform(#####빈칸을 채우세요######)\n",
    "test_set.iloc[:, -1] = scaler_y.transform(#####빈칸을 채우세요######)"
   ]
  },
  {
   "cell_type": "code",
   "execution_count": null,
   "metadata": {
    "colab": {
     "base_uri": "https://localhost:8080/",
     "height": 206
    },
    "executionInfo": {
     "elapsed": 5,
     "status": "ok",
     "timestamp": 1698826320368,
     "user": {
      "displayName": "이승문",
      "userId": "17091695928167721952"
     },
     "user_tz": -540
    },
    "id": "G0IFO2QWIuBJ",
    "outputId": "d98be652-f083-413c-fa0e-6b4e4ace9f6d"
   },
   "outputs": [],
   "source": [
    "train_set.head()"
   ]
  },
  {
   "cell_type": "markdown",
   "metadata": {
    "id": "0jXU2ZR6YzVX"
   },
   "source": [
    "데이터셋 생성"
   ]
  },
  {
   "cell_type": "code",
   "execution_count": null,
   "metadata": {
    "id": "6n9byJGDzb_f"
   },
   "outputs": [],
   "source": [
    "device = torch.device('cpu')\n",
    "# 데이터셋 생성 함수\n",
    "def build_dataset(time_series, seq_length):\n",
    "    dataX = []\n",
    "    dataY = []\n",
    "    for i in range(0, len(time_series)-seq_length):\n",
    "        _x = time_series[#####빈칸을 채우세요######]\n",
    "        _y = time_series[#####빈칸을 채우세요######]\n",
    "        # print(_x, \"-->\",_y)\n",
    "        dataX.append(_x)\n",
    "        dataY.append(_y)\n",
    "\n",
    "    return np.array(dataX), np.array(dataY)\n",
    "\n",
    "trainX, trainY = build_dataset(np.array(train_set), seq_length)\n",
    "testX, testY = build_dataset(np.array(test_set), seq_length)\n",
    "\n",
    "\n",
    "# 텐서로 변환\n",
    "trainX_tensor = torch.FloatTensor(trainX)\n",
    "trainY_tensor = torch.FloatTensor(trainY)\n",
    "\n",
    "testX_tensor = torch.FloatTensor(testX)\n",
    "testY_tensor = torch.FloatTensor(testY)\n",
    "\n",
    "testX_tensor = testX_tensor.to(device)\n",
    "testY_tensor = testY_tensor.to(device)\n",
    "# 텐서 형태로 데이터 정의\n",
    "dataset = TensorDataset(trainX_tensor, trainY_tensor)\n",
    "# 데이터로더는 기본적으로 2개의 인자를 입력받으며 배치크기는 통상적으로 2의 배수를 사용\n",
    "dataloader = DataLoader(dataset,\n",
    "                        batch_size=batch,\n",
    "                        shuffle=True,\n",
    "                        drop_last=True)"
   ]
  },
  {
   "cell_type": "code",
   "execution_count": null,
   "metadata": {},
   "outputs": [],
   "source": [
    "train_set[0:10]"
   ]
  },
  {
   "cell_type": "markdown",
   "metadata": {
    "id": "poBPftDcKUow"
   },
   "source": [
    "LSTM"
   ]
  },
  {
   "cell_type": "code",
   "execution_count": null,
   "metadata": {
    "id": "lOYYggiqJrAo"
   },
   "outputs": [],
   "source": [
    "import torch.nn as nn\n",
    "\n",
    "class Net(nn.Module):\n",
    "    # # 기본변수, layer를 초기화해주는 생성자\n",
    "    def __init__(self, input_dim, hidden_dim, seq_len, output_dim, layers):\n",
    "        super(Net, self).__init__()\n",
    "        self.hidden_dim = hidden_dim\n",
    "        self.seq_len = seq_len\n",
    "        self.output_dim = output_dim\n",
    "        self.layers = layers\n",
    "\n",
    "        self.lstm = nn.LSTM(input_dim, hidden_dim, num_layers=layers,\n",
    "                            #dropout = 0.1,\n",
    "                            batch_first=True)\n",
    "        self.fc = nn.Linear(hidden_dim, output_dim, bias = True)\n",
    "\n",
    "    # 학습 초기화를 위한 함수\n",
    "    def reset_hidden_state(self):\n",
    "        self.hidden = (\n",
    "                torch.zeros(self.layers, self.seq_len, self.hidden_dim),\n",
    "                torch.zeros(self.layers, self.seq_len, self.hidden_dim))\n",
    "\n",
    "    # 예측을 위한 함수\n",
    "    def forward(self, x):\n",
    "        x, _status = self.lstm(x)\n",
    "        x = self.fc(x[:, -1])\n",
    "        return x"
   ]
  },
  {
   "cell_type": "markdown",
   "metadata": {
    "id": "jtauKzyEKVg_"
   },
   "source": [
    "Training"
   ]
  },
  {
   "cell_type": "code",
   "execution_count": null,
   "metadata": {
    "id": "9x-DpuHqKXNe"
   },
   "outputs": [],
   "source": [
    "def train_model(model, train_df, num_epochs = None, lr = None, verbose = 10, patience = 10):\n",
    "\n",
    "    criterion = nn.MSELoss().to(device)\n",
    "    optimizer = torch.optim.Adam(model.parameters(), lr = learning_rate)\n",
    "    nb_epochs = num_epochs\n",
    "\n",
    "    # epoch마다 loss 저장\n",
    "    train_hist = np.zeros(nb_epochs)\n",
    "\n",
    "    for epoch in range(nb_epochs):\n",
    "        avg_cost = 0\n",
    "        total_batch = len(train_df)\n",
    "\n",
    "        for batch_idx, samples in enumerate(train_df):\n",
    "\n",
    "            x_train, y_train = samples\n",
    "\n",
    "            # seq별 hidden state reset\n",
    "            model.reset_hidden_state()\n",
    "\n",
    "            # H(x) 계산\n",
    "            outputs = model(x_train)\n",
    "\n",
    "            # cost 계산\n",
    "            loss = criterion(outputs, y_train)\n",
    "\n",
    "            # cost로 H(x) 개선\n",
    "            optimizer.zero_grad()\n",
    "            loss.backward()\n",
    "            optimizer.step()\n",
    "\n",
    "            avg_cost += loss/total_batch\n",
    "\n",
    "        train_hist[epoch] = avg_cost\n",
    "\n",
    "        if epoch % verbose == 0:\n",
    "            print('Epoch:', '%04d' % (epoch), 'train loss :', '{:.4f}'.format(avg_cost))\n",
    "\n",
    "        # patience번째 마다 early stopping 여부 확인\n",
    "        if (epoch % patience == 0) & (epoch != 0):\n",
    "\n",
    "            # loss가 커졌다면 early stop\n",
    "            if train_hist[epoch-patience] < train_hist[epoch]:\n",
    "                print('\\n Early Stopping : %04d epoch' %(epoch))\n",
    "\n",
    "                break\n",
    "\n",
    "    return model.eval(), train_hist"
   ]
  },
  {
   "cell_type": "code",
   "execution_count": null,
   "metadata": {},
   "outputs": [],
   "source": [
    "print(trainX_tensor[0:2])\n",
    "print(trainY_tensor[0:2])"
   ]
  },
  {
   "cell_type": "markdown",
   "metadata": {
    "id": "Qgaeq0Nx7gep"
   },
   "source": [
    "학습 시작"
   ]
  },
  {
   "cell_type": "code",
   "execution_count": null,
   "metadata": {
    "id": "2T1JQHZlKd1t"
   },
   "outputs": [],
   "source": [
    "# 모델 학습\n",
    "# 설정값\n",
    "data_dim = #####빈칸을 채우세요######\n",
    "hidden_dim = #####빈칸을 채우세요######\n",
    "output_dim = #####빈칸을 채우세요######\n",
    "learning_rate = #####빈칸을 채우세요######\n",
    "n_layer=#####빈칸을 채우세요######\n",
    "nb_epochs = #####빈칸을 채우세요######\n",
    "net = Net(data_dim, hidden_dim, seq_length, output_dim, n_layer)\n",
    "model, train_hist = train_model(net, dataloader, num_epochs = nb_epochs, lr = learning_rate, verbose = 10, patience = 10)"
   ]
  },
  {
   "cell_type": "code",
   "execution_count": null,
   "metadata": {
    "colab": {
     "base_uri": "https://localhost:8080/",
     "height": 368
    },
    "executionInfo": {
     "elapsed": 4,
     "status": "ok",
     "timestamp": 1698826321034,
     "user": {
      "displayName": "이승문",
      "userId": "17091695928167721952"
     },
     "user_tz": -540
    },
    "id": "4dbR6CYyKdxT",
    "outputId": "ed6436a3-718f-4c1e-c963-43c4680f0029"
   },
   "outputs": [],
   "source": [
    "# \n",
    "fig = plt.figure(figsize=(10, 4))\n",
    "plt.plot(train_hist, label=\"Training loss\")\n",
    "plt.legend()\n",
    "plt.show()"
   ]
  },
  {
   "cell_type": "code",
   "execution_count": null,
   "metadata": {
    "colab": {
     "base_uri": "https://localhost:8080/"
    },
    "executionInfo": {
     "elapsed": 669,
     "status": "ok",
     "timestamp": 1698826321699,
     "user": {
      "displayName": "이승문",
      "userId": "17091695928167721952"
     },
     "user_tz": -540
    },
    "id": "qiTRzvYwLDbT",
    "outputId": "2c3b7a9a-4f08-4126-f72a-fa657ce8ddc7",
    "scrolled": true
   },
   "outputs": [],
   "source": [
    "# 모델 저장\n",
    "PATH =#####빈칸을 채우세요######\n",
    "#torch.save(model.state_dict(), PATH)\n",
    "\n",
    "# 불러오기\n",
    "model = Net(data_dim, hidden_dim, seq_length, output_dim, n_layer)\n",
    "model.load_state_dict(torch.load(PATH), strict=False)\n",
    "model.eval()\n",
    "model.to(device)"
   ]
  },
  {
   "cell_type": "markdown",
   "metadata": {
    "id": "VmtB70MZdvCN"
   },
   "source": [
    "모델 테스트"
   ]
  },
  {
   "cell_type": "code",
   "execution_count": null,
   "metadata": {
    "id": "VCt6_LVISaYI"
   },
   "outputs": [],
   "source": [
    "# 예측테스트\n",
    "a=0\n",
    "testX_tensor_100=testX_tensor[#####빈칸을 채우세요######]\n",
    "testY_tensor_100=testY_tensor[#####빈칸을 채우세요######]\n",
    "testX_tensor_100 = testX_tensor_100.to(device)\n",
    "testY_tensor_100 = testY_tensor_100.to(device)\n",
    "\n",
    "with torch.no_grad():\n",
    "    pred = []\n",
    "    for pr in range(len(#####빈칸을 채우세요######)):\n",
    "\n",
    "        model.reset_hidden_state()\n",
    "\n",
    "        predicted = model(torch.unsqueeze(#####빈칸을 채우세요######[pr], 0))\n",
    "        predicted = torch.flatten(predicted).item()\n",
    "        pred.append(predicted)\n",
    "\n",
    "    # INVERSE\n",
    "\n",
    "    pred_np = np.array(pred).reshape(-1, 1)\n",
    "    pred_inverse = scaler_y.inverse_transform(pred_np)\n",
    "\n",
    "    \n",
    "    testY_np = testY_tensor_100.cpu().numpy()\n",
    "    testY_inverse = scaler_y.inverse_transform(#####빈칸을 채우세요######)\n"
   ]
  },
  {
   "cell_type": "code",
   "execution_count": null,
   "metadata": {},
   "outputs": [],
   "source": [
    "fig = plt.figure(figsize=(15,3))\n",
    "plt.plot(np.arange(len(pred_inverse)), pred_inverse, label = 'pred')\n",
    "plt.plot(np.arange(len(testY_inverse)), testY_inverse, label = 'true')\n",
    "plt.title(\"Test plot\")\n",
    "plt.legend()\n",
    "plt.show()"
   ]
  }
 ],
 "metadata": {
  "accelerator": "GPU",
  "colab": {
   "authorship_tag": "ABX9TyOAACDfuFW0hpsAaPjl6qnf",
   "gpuType": "T4",
   "provenance": []
  },
  "kernelspec": {
   "display_name": "Python 3 (ipykernel)",
   "language": "python",
   "name": "python3"
  },
  "language_info": {
   "codemirror_mode": {
    "name": "ipython",
    "version": 3
   },
   "file_extension": ".py",
   "mimetype": "text/x-python",
   "name": "python",
   "nbconvert_exporter": "python",
   "pygments_lexer": "ipython3",
   "version": "3.9.12"
  }
 },
 "nbformat": 4,
 "nbformat_minor": 4
}
